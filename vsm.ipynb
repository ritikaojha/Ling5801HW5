{
 "cells": [
  {
   "cell_type": "markdown",
   "metadata": {},
   "source": [
    "# Distributional word representations"
   ]
  },
  {
   "cell_type": "code",
   "execution_count": 1,
   "metadata": {
    "collapsed": true
   },
   "outputs": [],
   "source": [
    "__author__ = \"Christopher Potts\"\n",
    "__version__ = \"CS224u, Stanford, Spring 2016 term\""
   ]
  },
  {
   "cell_type": "markdown",
   "metadata": {},
   "source": [
    "## Contents\n",
    "\n",
    "0. [Overview](#Overview)\n",
    "0. [Set-up](#Set-up)\n",
    "0. [Distributional matrices](#Distributional-matrices)\n",
    "0. [Vector comparison](#Vector-comparison)\n",
    "    0. [Euclidean distance](#Euclidean-distance)\n",
    "    0. [Length normalization](#Length-normalization)\n",
    "    0. [Cosine distance](#Cosine-distance)\n",
    "    0. [Matching-based methods](#Matching-based-methods)\n",
    "    0. [Summary](#Summary)\n",
    "0. [Distributional neighbors](#Distributional-neighbors)    \n",
    "0. [Matrix reweighting](#Matrix-reweighting)\n",
    "    0. [Normalization](#Normalization)\n",
    "    0. [Pointwise Mutual Information](#Pointwise-Mutual-Information)\n",
    "    0. [TF-IDF](#TF-IDF)\n",
    "0. [Dimensionality reduction](#Dimensionality-reduction)\n",
    "0. [Visualization](#Visualization)\n",
    "0. [GloVe word representations](#GloVe-word-representations)\n",
    "0. [In-class exploration: The semantic orientation method](#In-class-exploration:-The-semantic-orientation-method)\n",
    "0. [In-class bake-off: Word similarity](#In-class-bake-off:-Word-similarity)\n",
    "0. [Word analogies evaluation](#Word-analogies-evaluation)\n",
    "0. [Exploratory exercises](#Exploratory-exercises)\n",
    "0. [Homework 1](#Homework-1)"
   ]
  },
  {
   "cell_type": "markdown",
   "metadata": {},
   "source": [
    "## Overview\n",
    "\n",
    "This codelab is about methods for creating effective vector representations of words from co-occurrence patterns in text. These are often called __distributional representations__, and the models are often called __vector space models__ (VSMs).\n",
    "\n",
    "Terminological notes:\n",
    "\n",
    "* Distributional representations are a specific kind of __distributed representation__. Later in the term, we'll look at models that use supervised learning to obtain vector-based word representations. These aren't purely distributional, in that they take advantage of more than just co-occcurence patterns among items in the vocabulary, but they share the idea that words can be modeled with vectors.\n",
    "\n",
    "* If a neural network is used to train the representations, then they might be called __neural representations__.\n",
    "\n",
    "* The term __word embedding__ is also used for distributed representations, including distributional ones. This term is a reminder that vector representations are meaningful only when embedded in and compared with others in a unified space (usually a matrix) of representations of the same type."
   ]
  },
  {
   "cell_type": "markdown",
   "metadata": {},
   "source": [
    "## Set-up"
   ]
  },
  {
   "cell_type": "markdown",
   "metadata": {},
   "source": [
    "* Make sure your environment includes all the requirements for [the cs224u repository](https://github.com/cgpotts/cs224u).\n",
    "* Download [the data distribution for this unit](https://web.stanford.edu/class/cs224u/data/vsmdata.zip), unpack it, and place it in the directory containing the course repository. (If you want to put it somewhere else, change `vsmdata_home` below.)\n",
    "* Download [the Wikipedia 2014 + Gigaword 5 distribution](http://nlp.stanford.edu/data/glove.6B.zip) of the pretrained GloVe vectors, unzip it, and put the resulting folder in the the same directory as this notebook. (If you want to put it somewhere else, change `glove_home` below.)"
   ]
  },
  {
   "cell_type": "code",
   "execution_count": 2,
   "metadata": {
    "collapsed": true
   },
   "outputs": [],
   "source": [
    "vsmdata_home = \"vsmdata\"\n",
    "glove_home = \"glove.6B\""
   ]
  },
  {
   "cell_type": "code",
   "execution_count": 3,
   "metadata": {
    "collapsed": false
   },
   "outputs": [],
   "source": [
    "import os\n",
    "import sys\n",
    "import csv\n",
    "import random\n",
    "import itertools\n",
    "from operator import itemgetter\n",
    "from collections import defaultdict\n",
    "import numpy as np\n",
    "import scipy\n",
    "import scipy.spatial.distance\n",
    "from numpy.linalg import svd\n",
    "import matplotlib.pyplot as plt\n",
    "from sklearn.decomposition import PCA\n",
    "from sklearn.manifold import TSNE\n",
    "import utils"
   ]
  },
  {
   "cell_type": "code",
   "execution_count": 4,
   "metadata": {
    "collapsed": false
   },
   "outputs": [],
   "source": [
    "%matplotlib inline"
   ]
  },
  {
   "cell_type": "markdown",
   "metadata": {},
   "source": [
    "## Distributional matrices"
   ]
  },
  {
   "cell_type": "markdown",
   "metadata": {},
   "source": [
    "Here's a basic recipe for building a word $\\times$ word matrix:\n",
    "    \n",
    "0. Define a notion of co-occurrence context. This could be an entire document, a paragraph, a sentence, a clause, an NP — whatever domain seems likely to capture the associations you care about.\n",
    "0. Scan through your corpus building a dictionary $d$ mapping word-pairs to counts. Every time a pair of words $w$ and $w'$ occurs in the same context (as you defined it in 1),  increment $d[(w, w')]$ by $1$.\n",
    "0. Using the count dictionary $d$ that you collected in 2, establish your full vocabulary $V$, an ordered list of words types. For large collections of documents, $|V|$ will typically be huge. You will probably want to winnow the vocabulary at this point. You might do this by filtering to a specific subset, or just imposing a minimum count threshold. You might impose a minimum count threshold even if $|V|$ is small &mdash; for words with very low counts, you simply don't have enough evidence to say anything interesting.\n",
    "0. Now build a matrix $M$ of dimension $|V| \\times |V|$. Both the rows and the columns of $M$ represent words. Each cell $M[i, j]$ is filled with the count $d[(w_i, w_j)]$.\n",
    "\n",
    "For different designs, the procedure differs slightly. For example, if you are building a word $\\times$ document matrix, then the rows of $M$ represent words and the columns of $M$ represent documents. The scan in step 2 then just keeps track of (_word_, _document_) pairs &mdash; compiling the number of times that _word_ appears in _document_. Such matrices are often used in information retrieval, because the columns are multi-set representations of documents. They are much sparser than the the word $\\times$ word matrices we will work with here. (In my experience, they yield lower-quality lexicons, but others have reported good results with them.)"
   ]
  },
  {
   "cell_type": "markdown",
   "metadata": {},
   "source": [
    "The data distribution includes two pre-computed matrices of co-occurrence counts in IMDB movie reviews. The `build` function in the `utils` module for this repository  allows you to read them in:"
   ]
  },
  {
   "cell_type": "markdown",
   "metadata": {},
   "source": [
    "Let's read these in now for use in later examples:"
   ]
  },
  {
   "cell_type": "code",
   "execution_count": 5,
   "metadata": {
    "collapsed": false
   },
   "outputs": [],
   "source": [
    "ww = utils.build(os.path.join(vsmdata_home, 'imdb-wordword.csv'))\n",
    "wd = utils.build(os.path.join(vsmdata_home, 'imdb-worddoc.csv'))"
   ]
  },
  {
   "cell_type": "markdown",
   "metadata": {},
   "source": [
    "There are some great pre-computed matrices available online too. These aren't matrices of counts, but rather more abstract values computed using methods like those under discussion here. Just for kicks, let's load in some [GloVe vectors](#GloVe-word-representations):"
   ]
  },
  {
   "cell_type": "code",
   "execution_count": 6,
   "metadata": {
    "collapsed": false
   },
   "outputs": [],
   "source": [
    "glv = utils.build_glove(os.path.join(glove_home, 'glove.6B.50d.txt'))"
   ]
  },
  {
   "cell_type": "markdown",
   "metadata": {},
   "source": [
    "## Vector comparison"
   ]
  },
  {
   "cell_type": "markdown",
   "metadata": {},
   "source": [
    "Vector comparisons form the heart of our analyses in this context. For the most part, we are interested in measuring the _distance_ between vectors. The guiding idea is that semantically related words should be close together in the vector spaces we build, and semantically unrelated words should be far apart.\n",
    "\n",
    "The [scipy.spatial.distance](http://docs.scipy.org/doc/scipy-0.14.0/reference/spatial.distance.html) module has a lot of vector comparison methods, so you might check them out if you want to go beyond the functions defined and explored here. Read the documentation closely, though: many of those methods are defined only for binary vectors, whereas the VSMs we'll use allow all float values in principle."
   ]
  },
  {
   "cell_type": "markdown",
   "metadata": {},
   "source": [
    "### Euclidean distance"
   ]
  },
  {
   "cell_type": "markdown",
   "metadata": {},
   "source": [
    "The most basic and intuitive distance measure between vectors is __euclidean distance__. The euclidean distance between two vectors $u$ and $v$ of dimension $n$ is \n",
    "\n",
    "$$\\sqrt{\\sum_{i=1}^{n} |u_{i}-v_{i}|^2}$$ \n",
    "\n",
    "In two-dimensions, this corresponds to the length of the most direct line between the two points.\n",
    "\n",
    "Here, we just rely on `scipy` to define it:"
   ]
  },
  {
   "cell_type": "code",
   "execution_count": 7,
   "metadata": {
    "collapsed": false
   },
   "outputs": [],
   "source": [
    "def euclidean(u, v):    \n",
    "    \"\"\"Eculidean distance between 1d np.arrays `u` and `v`, which must \n",
    "    have the same dimensionality. Returns a float.\"\"\"\n",
    "    # Use scipy's method:\n",
    "    return scipy.spatial.distance.euclidean(u, v)\n",
    "    # Or define it yourself:\n",
    "    # return vector_length(u - v)    "
   ]
  },
  {
   "cell_type": "markdown",
   "metadata": {},
   "source": [
    "The comment above shows how to define this measure yourself. The function used there is the __length__ of a vector $u$ of dimension $n$, which is defined as \n",
    "\n",
    "$$\\|u\\| = \\sqrt{\\sum_{i=1}^{n} u_{i}^{2}}$$ \n",
    "\n",
    "Here's the code:"
   ]
  },
  {
   "cell_type": "code",
   "execution_count": 8,
   "metadata": {
    "collapsed": false
   },
   "outputs": [],
   "source": [
    "def vector_length(u):\n",
    "    \"\"\"Length (L2) of the 1d np.array `u`. Returns a new np.array with the \n",
    "    same dimensions as `u`.\"\"\"\n",
    "    return np.sqrt(np.dot(u, u))"
   ]
  },
  {
   "cell_type": "markdown",
   "metadata": {},
   "source": [
    "Here's the tiny vector space from the screencast on vector comparisons associated with this notebook:"
   ]
  },
  {
   "cell_type": "code",
   "execution_count": 9,
   "metadata": {
    "collapsed": false
   },
   "outputs": [
    {
     "data": {
      "image/png": "[encoded data removed]",
      "text/plain": [
       "<matplotlib.figure.Figure at 0xdd7b7f0>"
      ]
     },
     "metadata": {},
     "output_type": "display_data"
    }
   ],
   "source": [
    "ABC = np.array([\n",
    "    [ 2.0,  4.0],  # A\n",
    "    [10.0, 15.0],  # B\n",
    "    [14.0, 10.0]]) # C\n",
    "\n",
    "def plot_ABC(m):\n",
    "    plt.plot(m[:,0], m[:,1], marker='', linestyle='')\n",
    "    plt.xlim([0,np.max(m)*1.2])\n",
    "    plt.ylim([0,np.max(m)*1.2])\n",
    "    for i, x in enumerate(['A','B','C']):\n",
    "        plt.annotate(x, m[i,:])\n",
    "\n",
    "plot_ABC(ABC)"
   ]
  },
  {
   "cell_type": "markdown",
   "metadata": {},
   "source": [
    "The euclidean distances align well with the raw visual distance in the plot:"
   ]
  },
  {
   "cell_type": "code",
   "execution_count": 10,
   "metadata": {
    "collapsed": false
   },
   "outputs": [
    {
     "data": {
      "text/plain": [
       "13.601470508735444"
      ]
     },
     "execution_count": 10,
     "metadata": {},
     "output_type": "execute_result"
    }
   ],
   "source": [
    "euclidean(ABC[0], ABC[1])"
   ]
  },
  {
   "cell_type": "code",
   "execution_count": 11,
   "metadata": {
    "collapsed": false
   },
   "outputs": [
    {
     "data": {
      "text/plain": [
       "6.4031242374328485"
      ]
     },
     "execution_count": 11,
     "metadata": {},
     "output_type": "execute_result"
    }
   ],
   "source": [
    "euclidean(ABC[1], ABC[2])"
   ]
  },
  {
   "cell_type": "markdown",
   "metadata": {},
   "source": [
    "However, suppose we think of the vectors as word meanings in the vector-space sense. In that case, the values don't look good: the distributions of B and C are more or less directly opposed, suggesting very different meanings, whereas A and B are rather closely aligned, abstracting away from the fact that the first is far  less frequent than the second. In terms of the large  models we will soon explore, A and B resemble a pair like __superb__ and __good__, which have similar meanings but very different frequencies. In contrast, B and C are like __good__ and __disappointing__ &mdash; similar overall frequencies but different distributions with respect to the overall vocabulary."
   ]
  },
  {
   "cell_type": "markdown",
   "metadata": {},
   "source": [
    "### Length normalization"
   ]
  },
  {
   "cell_type": "markdown",
   "metadata": {},
   "source": [
    "These affinities are immediately apparent if we normalize the vectors by their length. To do this, we use `vector_length` to define `length_norm`:"
   ]
  },
  {
   "cell_type": "code",
   "execution_count": 12,
   "metadata": {
    "collapsed": false
   },
   "outputs": [],
   "source": [
    "def length_norm(u):\n",
    "    \"\"\"L2 norm of the 1d np.array `u`. Returns a float.\"\"\"\n",
    "    return u / vector_length(u)"
   ]
  },
  {
   "cell_type": "code",
   "execution_count": 13,
   "metadata": {
    "collapsed": false
   },
   "outputs": [
    {
     "data": {
      "image/png": "[encoded data removed]",
      "text/plain": [
       "<matplotlib.figure.Figure at 0x26298e10>"
      ]
     },
     "metadata": {},
     "output_type": "display_data"
    }
   ],
   "source": [
    "plot_ABC(np.array([length_norm(row) for row in ABC]))"
   ]
  },
  {
   "cell_type": "markdown",
   "metadata": {},
   "source": [
    "Here, the connection between A and B is more apparent, as is the opposition between B and C."
   ]
  },
  {
   "cell_type": "markdown",
   "metadata": {},
   "source": [
    "### Cosine distance"
   ]
  },
  {
   "cell_type": "markdown",
   "metadata": {},
   "source": [
    "__Cosine distance__ takes overall length into account. The cosine distance between two vectors $u$ and $v$ of dimension $n$ is \n",
    "\n",
    "$$1 - \\left(\\frac{\\sum_{i=1}^{n} u_{i} \\cdot v_{i}}{\\|u\\|\\cdot \\|v\\|}\\right)$$\n",
    "\n",
    "The similarity part of this (the righthand term of the subtraction) is actually measuring the _angles_ between the two vectors. The result is the same (in terms of rank order) as one gets from first normalizing both vectors using `vector_length` and then calculating their Euclidean distance."
   ]
  },
  {
   "cell_type": "code",
   "execution_count": 14,
   "metadata": {
    "collapsed": false
   },
   "outputs": [],
   "source": [
    "def cosine(u, v):        \n",
    "    \"\"\"Cosine distance between 1d np.arrays `u` and `v`, which must have \n",
    "    the same dimensionality. Returns a float.\"\"\"\n",
    "    # Use scipy's method:\n",
    "    return scipy.spatial.distance.cosine(u, v)\n",
    "    # Or define it yourself:\n",
    "    # return 1.0 - (np.dot(u, v) / (vector_length(u) * vector_length(v)))"
   ]
  },
  {
   "cell_type": "markdown",
   "metadata": {},
   "source": [
    "### Jensen–Shannon distance"
   ]
  },
  {
   "cell_type": "markdown",
   "metadata": {},
   "source": []
  },
  {
   "cell_type": "markdown",
   "metadata": {},
   "source": [
    "### Matching-based methods"
   ]
  },
  {
   "cell_type": "markdown",
   "metadata": {},
   "source": [
    "Matching-based methods are also common in the literature. The basic `matching` measure  effectively creates a vector consisting of all of the smaller of the two values at each coordinate, and then sums them:"
   ]
  },
  {
   "cell_type": "code",
   "execution_count": 15,
   "metadata": {
    "collapsed": false
   },
   "outputs": [],
   "source": [
    "def matching(u, v):    \n",
    "    \"\"\"Matching coefficient between the 1d np.array vectors `u` and `v`, \n",
    "    which must have the same dimensionality. Returns a float.\"\"\"\n",
    "    # The scipy implementation is for binary vectors only. \n",
    "    # This version is more general.\n",
    "    return np.sum(np.minimum(u, v))"
   ]
  },
  {
   "cell_type": "markdown",
   "metadata": {},
   "source": [
    "One approach to normalizing the `matching` values is the __Jaccard coefficient__. The numerator is the matching coefficient. The denominator &mdash; the normalizer &mdash; is intuitively like the set union: for binary vectors it gives the cardinality of the union of the two being compared:"
   ]
  },
  {
   "cell_type": "code",
   "execution_count": 16,
   "metadata": {
    "collapsed": false
   },
   "outputs": [],
   "source": [
    "def jaccard(u, v):    \n",
    "    \"\"\"Jaccard distance between the 1d np.arrays `u` and `v`, which must \n",
    "    have the same dimensionality. Returns a float.\"\"\"\n",
    "    # The scipy implementation is for binary vectors only. \n",
    "    # This version is more general.\n",
    "    return 1.0 - (matching(u, v) / np.sum(np.maximum(u, v)))"
   ]
  },
  {
   "cell_type": "markdown",
   "metadata": {},
   "source": [
    "### Summary"
   ]
  },
  {
   "cell_type": "markdown",
   "metadata": {},
   "source": [
    "Suppose we set for ourselves the goal of associating A with B and disassociating B from C, in keeping with the semantic intuition expressed above. Then we can assess distance measures by whether they achieve this goal:"
   ]
  },
  {
   "cell_type": "code",
   "execution_count": 19,
   "metadata": {
    "collapsed": false
   },
   "outputs": [
    {
     "name": "stdout",
     "output_type": "stream",
     "text": [
      "      euclidean(A, B) = 13.60       euclidean(B, C) =  6.40\n",
      "         cosine(A, B) =  0.01          cosine(B, C) =  0.07\n",
      "        jaccard(A, B) =  0.76         jaccard(B, C) =  0.31\n",
      "            JSD(A, B) =  0.00             JSD(B, C) =  0.02\n"
     ]
    }
   ],
   "source": [
    "for m in (euclidean, cosine, jaccard, JSD):\n",
    "    fmt = {'n': m.__name__,  \n",
    "           'AB': m(ABC[0], ABC[1]), \n",
    "           'BC': m(ABC[1], ABC[2])}\n",
    "    print('%(n)15s(A, B) = %(AB)5.2f %(n)15s(B, C) = %(BC)5.2f' % fmt)"
   ]
  },
  {
   "cell_type": "markdown",
   "metadata": {},
   "source": [
    "## Distributional neighbors"
   ]
  },
  {
   "cell_type": "markdown",
   "metadata": {},
   "source": [
    "The `neighbors` function is an investigative aide. For a given `word`, it ranks all the words in the vocabulary `rownames` according to their distance from `word`, as measured by `distfunc` in matrix `mat`:"
   ]
  },
  {
   "cell_type": "code",
   "execution_count": 20,
   "metadata": {
    "collapsed": false
   },
   "outputs": [],
   "source": [
    "def neighbors(word, mat, rownames, distfunc=cosine):    \n",
    "    \"\"\"Tool for finding the nearest neighbors of `word` in `mat` according \n",
    "    to `distfunc`. The comparisons are between row vectors.\n",
    "    \n",
    "    Parameters\n",
    "    ----------\n",
    "    word : str\n",
    "        The anchor word. Assumed to be in `rownames`.\n",
    "        \n",
    "    mat : np.array\n",
    "        The vector-space model.\n",
    "        \n",
    "    rownames : list of str\n",
    "        The rownames of mat.\n",
    "            \n",
    "    distfunc : function mapping vector pairs to floats (default: `cosine`)\n",
    "        The measure of distance between vectors. Can also be `euclidean`, \n",
    "        `matching`, `jaccard`, as well as any other distance measure  \n",
    "        between 1d vectors.\n",
    "        \n",
    "    Raises\n",
    "    ------\n",
    "    ValueError\n",
    "        If word is not in rownames.\n",
    "    \n",
    "    Returns\n",
    "    -------    \n",
    "    list of tuples\n",
    "        The list is ordered by closeness to `word`. Each member is a pair \n",
    "        (word, distance) where word is a str and distance is a float.\n",
    "    \n",
    "    \"\"\"\n",
    "    if word not in rownames:\n",
    "        raise ValueError('%s is not in this VSM' % word)\n",
    "    w = mat[rownames.index(word)]\n",
    "    dists = [(rownames[i], distfunc(w, mat[i])) for i in range(len(mat))]\n",
    "    return sorted(dists, key=itemgetter(1), reverse=False)"
   ]
  },
  {
   "cell_type": "markdown",
   "metadata": {},
   "source": [
    "By playing around with this function, you can start to get a sense for how the distance functions differ. Here are some example calls; you might try some new words to get a feel for what these matrices are like and how different words look."
   ]
  },
  {
   "cell_type": "code",
   "execution_count": 21,
   "metadata": {
    "collapsed": false
   },
   "outputs": [
    {
     "data": {
      "text/plain": [
       "[('superb', 0.0),\n",
       " ('excellent', 0.0026965023912962627),\n",
       " ('outstanding', 0.0027344413235226295),\n",
       " ('beautifully', 0.0027345163104325332),\n",
       " ('brilliant', 0.0027888643627086429)]"
      ]
     },
     "execution_count": 21,
     "metadata": {},
     "output_type": "execute_result"
    }
   ],
   "source": [
    "neighbors(word='superb', mat=ww[0], rownames=ww[1], distfunc=cosine)[: 5]"
   ]
  },
  {
   "cell_type": "code",
   "execution_count": 22,
   "metadata": {
    "collapsed": false
   },
   "outputs": [
    {
     "data": {
      "text/plain": [
       "[('superb', 0.0),\n",
       " ('familiar', 1448.8919904533948),\n",
       " ('violent', 1630.3723501090174),\n",
       " ('follows', 1647.0276257549538),\n",
       " ('convincing', 1701.2260284865147)]"
      ]
     },
     "execution_count": 22,
     "metadata": {},
     "output_type": "execute_result"
    }
   ],
   "source": [
    "neighbors(word='superb', mat=ww[0], rownames=ww[1], distfunc=euclidean)[: 5]"
   ]
  },
  {
   "cell_type": "markdown",
   "metadata": {},
   "source": [
    "The above rankings actually tend to look pretty good, with `cosine` less likely to associate words that happen to have similar frequency. "
   ]
  },
  {
   "cell_type": "markdown",
   "metadata": {},
   "source": [
    "The GloVe vectors look even better &mdash; but they are based on much more than just raw counts, as we'll see soon:"
   ]
  },
  {
   "cell_type": "code",
   "execution_count": 23,
   "metadata": {
    "collapsed": false
   },
   "outputs": [
    {
     "data": {
      "text/plain": [
       "[('superb', 2.2204460492503131e-16),\n",
       " ('brilliant', 0.15809110259014769),\n",
       " ('impressive', 0.19352861376442676),\n",
       " ('masterful', 0.22871323564771928),\n",
       " ('excellent', 0.22928471014596696)]"
      ]
     },
     "execution_count": 23,
     "metadata": {},
     "output_type": "execute_result"
    }
   ],
   "source": [
    "neighbors(word='superb', mat=glv[0], rownames=glv[1], distfunc=cosine)[: 5]"
   ]
  },
  {
   "cell_type": "markdown",
   "metadata": {},
   "source": [
    "## Matrix reweighting"
   ]
  },
  {
   "cell_type": "markdown",
   "metadata": {},
   "source": [
    "The goal of reweighting is to amplify the important, trustworthy, and unusual, while deemphasizing the mundane and the quirky. Absent a defined objective function, this will remain fuzzy, but the intuition behind moving away from raw counts is that frequency is a poor proxy for our target semantic ideas."
   ]
  },
  {
   "cell_type": "markdown",
   "metadata": {},
   "source": [
    "### Normalization"
   ]
  },
  {
   "cell_type": "markdown",
   "metadata": {},
   "source": [
    "Normalization (row-wise or column-wise) is perhaps the simplest form of reweighting. With [length_norm](#Length-normalization), we normalize using `vector_length`. We can also normalize each row by the sum of its values, which turns each row into a probability distribution over the columns:"
   ]
  },
  {
   "cell_type": "code",
   "execution_count": 24,
   "metadata": {
    "collapsed": false
   },
   "outputs": [],
   "source": [
    "def prob_norm(u):\n",
    "    \"\"\"Normalize 1d np.array `u` into a probability distribution. Assumes \n",
    "    that all the members of `u` are positive. Returns a 1d np.array of \n",
    "    the same dimensionality as `u`.\"\"\"\n",
    "    return u / np.sum(u)"
   ]
  },
  {
   "cell_type": "markdown",
   "metadata": {},
   "source": [
    "These normalization measures are insensitive to the _magnitude_ of the underlying counts. This is often a mistake in the messy world of large data sets; $[1,10]$ and $[1000,10000]$ are very different in ways that will be partly or totally obscured by normalization."
   ]
  },
  {
   "cell_type": "markdown",
   "metadata": {},
   "source": [
    "### Pointwise Mutual Information"
   ]
  },
  {
   "cell_type": "markdown",
   "metadata": {},
   "source": [
    "__Pointwise Mutual Information__ (PMI) addresses this issue, at least in part. The PMI for word $\\times$ context pair $(w,c)$ is \n",
    "\n",
    "$$\\log\\left(\\frac{P(w,c)}{P(w) \\cdot P(c)}\\right)$$\n",
    "\n",
    "with $\\log(0) = 0$. This is a measure of how far that cell's value deviates from what we would expect given the row and column sums for that cell. \n",
    "\n",
    "__Positive PMI__ (PPMI) maps all negative PMI values to 0.0. Our function `pmi` has `positive=True` as a default, in light of the arguments in [Levy and Goldberg 2014](http://papers.nips.cc/paper/5477-neural-word-embedding-as-implicit-matrix-factorization), section 3.3."
   ]
  },
  {
   "cell_type": "code",
   "execution_count": 25,
   "metadata": {
    "collapsed": false
   },
   "outputs": [],
   "source": [
    "def pmi(mat, rownames=None, positive=True):\n",
    "    \"\"\"Pointwise Mutual Information with Positive on by default.\n",
    "    \n",
    "    Parameters\n",
    "    ----------\n",
    "    mat : 2d np.array\n",
    "       The matrix to operate on.\n",
    "           \n",
    "    rownames : list of str or None\n",
    "        Not used; it's an argument only for consistency with other methods \n",
    "        defined here.\n",
    "        \n",
    "    positive : bool (default: True)\n",
    "        Implements Positive PMI.\n",
    "        \n",
    "    Returns\n",
    "    -------    \n",
    "    (np.array, list of str)\n",
    "       The first member is the PMI-transformed version of `mat`, and the \n",
    "       second member is `rownames` (unchanged).\n",
    "    \n",
    "    \"\"\"    \n",
    "    # Joint probability table:\n",
    "    p = mat / np.sum(mat, axis=None)\n",
    "    # Pre-compute column sums:\n",
    "    colprobs = np.sum(p, axis=0)\n",
    "    # Vectorize this function so that it can be applied rowwise:\n",
    "    np_pmi_log = np.vectorize((lambda x : _pmi_log(x, positive=positive)))\n",
    "    p = np.array([np_pmi_log(row / (np.sum(row)*colprobs)) for row in p])   \n",
    "    return (p, rownames)\n",
    "\n",
    "def _pmi_log(x, positive=True):\n",
    "    \"\"\"With `positive=False`, return log(x) if possible, else 0.\n",
    "    With `positive=True`, log(x) is mapped to 0 where negative.\"\"\"\n",
    "    val = 0.0\n",
    "    if x > 0.0:\n",
    "        val = np.log(x)\n",
    "    if positive:\n",
    "        val = max([val,0.0])\n",
    "    return val"
   ]
  },
  {
   "cell_type": "markdown",
   "metadata": {},
   "source": [
    "Here, we reweight the word $\\times$ word IMDB matrix from above using PPMI:"
   ]
  },
  {
   "cell_type": "code",
   "execution_count": 26,
   "metadata": {
    "collapsed": false
   },
   "outputs": [
    {
     "ename": "NameError",
     "evalue": "name 'ww_ppmi' is not defined",
     "output_type": "error",
     "traceback": [
      "\u001b[0;31m---------------------------------------------------------------------------\u001b[0m",
      "\u001b[0;31mNameError\u001b[0m                                 Traceback (most recent call last)",
      "\u001b[0;32m<ipython-input-26-001aa9b7361d>\u001b[0m in \u001b[0;36m<module>\u001b[0;34m()\u001b[0m\n\u001b[0;32m----> 1\u001b[0;31m \u001b[0mneighbors\u001b[0m\u001b[1;33m(\u001b[0m\u001b[0mword\u001b[0m\u001b[1;33m=\u001b[0m\u001b[1;34m'superb'\u001b[0m\u001b[1;33m,\u001b[0m \u001b[0mmat\u001b[0m\u001b[1;33m=\u001b[0m\u001b[0mww_ppmi\u001b[0m\u001b[1;33m[\u001b[0m\u001b[1;36m0\u001b[0m\u001b[1;33m]\u001b[0m\u001b[1;33m,\u001b[0m \u001b[0mrownames\u001b[0m\u001b[1;33m=\u001b[0m\u001b[0mww_ppmi\u001b[0m\u001b[1;33m[\u001b[0m\u001b[1;36m1\u001b[0m\u001b[1;33m]\u001b[0m\u001b[1;33m,\u001b[0m \u001b[0mdistfunc\u001b[0m\u001b[1;33m=\u001b[0m\u001b[0mcosine\u001b[0m\u001b[1;33m)\u001b[0m\u001b[1;33m[\u001b[0m\u001b[1;33m:\u001b[0m \u001b[1;36m5\u001b[0m\u001b[1;33m]\u001b[0m\u001b[1;33m\u001b[0m\u001b[0m\n\u001b[0m",
      "\u001b[0;31mNameError\u001b[0m: name 'ww_ppmi' is not defined"
     ]
    }
   ],
   "source": [
    "neighbors(word='superb', mat=ww_ppmi[0], rownames=ww_ppmi[1], distfunc=cosine)[: 5]"
   ]
  },
  {
   "cell_type": "markdown",
   "metadata": {},
   "source": [
    "### TF-IDF"
   ]
  },
  {
   "cell_type": "markdown",
   "metadata": {},
   "source": [
    "Perhaps the best known reweighting schemes is __Term Frequency&ndash;Inverse Document Frequency__ (TF-IDF), which is, I believe, still the backbone of today's Web search technologies. As the name suggests, it is built from TF and IDF measures:\n",
    "\n",
    "For a word $w$ and collection of documents $D$ containing document $d$:\n",
    "\n",
    "* TF$(w,d)$: $P(w \\mid c)$. (In our VSMs, this is column-normalization using `prob_norm`.)\n",
    "* IDF$(w,D)$: $\\log\\left(\\frac{|D|}{|\\{d \\in D : w \\in d\\}|}\\right)$, where $\\log(0)=0$.\n",
    "* TFIDF$(w,d,D)$: TF$(w,d)$ * IDF$(w,D)$"
   ]
  },
  {
   "cell_type": "code",
   "execution_count": 27,
   "metadata": {
    "collapsed": false
   },
   "outputs": [],
   "source": [
    "def tfidf(mat, rownames=None):\n",
    "    \"\"\"TF-IDF \n",
    "    \n",
    "    Parameters\n",
    "    ----------\n",
    "    mat : 2d np.array\n",
    "       The matrix to operate on.\n",
    "       \n",
    "    rownames : list of str or None\n",
    "        Not used; it's an argument only for consistency with other methods \n",
    "        defined here.\n",
    "        \n",
    "    Returns\n",
    "    -------\n",
    "    (np.array, list of str)    \n",
    "       The first member is the TF-IDF-transformed version of `mat`, and \n",
    "       the second member is `rownames` (unchanged).\n",
    "    \n",
    "    \"\"\"\n",
    "    colsums = np.sum(mat, axis=0)\n",
    "    doccount = mat.shape[1]\n",
    "    w = np.array([_tfidf_row_func(row, colsums, doccount) for row in mat])\n",
    "    return (w, rownames)\n",
    "\n",
    "def _tfidf_row_func(row, colsums, doccount):\n",
    "    df = float(len([x for x in row if x > 0]))\n",
    "    idf = 0.0\n",
    "    # This ensures a defined IDF value >= 0.0:\n",
    "    if df > 0.0 and df != doccount:\n",
    "        idf = np.log(doccount / df)\n",
    "    tfs = row/colsums\n",
    "    return tfs * idf"
   ]
  },
  {
   "cell_type": "markdown",
   "metadata": {},
   "source": [
    "TF-IDF generally performs best with sparse matrices. It severely punishes words that appear in many documents; if a word appears in every document, then its IDF value is 0. As a result, it can even be problematic with verb dense word $\\times$ word matrices like `ww`, where most words appear with most other words due to the permissive notion of co-occurrence used to create it."
   ]
  },
  {
   "cell_type": "markdown",
   "metadata": {},
   "source": [
    "Here's an example using our word&nbsp;x&nbsp;document matrix `wd`:"
   ]
  },
  {
   "cell_type": "code",
   "execution_count": 30,
   "metadata": {
    "collapsed": false
   },
   "outputs": [
    {
     "data": {
      "text/plain": [
       "[('superb', 1.1102230246251565e-16),\n",
       " ('outstanding', 0.72256301656130351),\n",
       " ('remain', 0.73606093603489875),\n",
       " ('viewed', 0.74639986506462108),\n",
       " ('and', 0.74880553661599958)]"
      ]
     },
     "execution_count": 30,
     "metadata": {},
     "output_type": "execute_result"
    }
   ],
   "source": [
    "neighbors(word='superb', mat=wd_tfidf[0], rownames=wd_tfidf[1], distfunc=cosine)[: 5]"
   ]
  },
  {
   "cell_type": "markdown",
   "metadata": {},
   "source": [
    "For a more full-featured version of TF-IDF, see [sklearn.feature_extraction.text.TfidfTransformer](http://scikit-learn.org/stable/modules/generated/sklearn.feature_extraction.text.TfidfTransformer.html#sklearn.feature_extraction.text.TfidfTransformer). \n",
    "\n",
    "__Important__: `sklearn`'s version assumes that term frequency (TF) is defined row-wise and document frequency is defined column-wise. That is, it assumes `sklearn`'s document $\\times$ word basic design, which makes sense for classification tasks, where the design is example $\\times$ features. This is the reverse of the above."
   ]
  },
  {
   "cell_type": "markdown",
   "metadata": {},
   "source": [
    "## Dimensionality reduction"
   ]
  },
  {
   "cell_type": "markdown",
   "metadata": {},
   "source": [
    "The above methods deliver solid results. However, they are not capable of capturing higher-order associations in the data. For example, both _gnarly_ and _wicked_ are used as slangily positive adjectives. We thus expect them to have many of the same neighbors. However, at least stereotypically, _gnarly_ is Californian and _wicked_ is Bostonian. Thus, they are unlikely \n",
    "to occur often in the same texts. Dimensionality reduction techniques are often capable of capturing their semantic similarity (and have the added advantage of shrinking the size of our data structures).\n",
    "\n",
    "The general goal of dimensionality reduction is to eliminate rows/columns that are highly correlated while bringing similar things together and pushing dissimilar things apart. __Latent Semantic Analysis__ (LSA) is a prominent method. It is an application of truncated __singular value decomposition__ (SVD). SVD is a central matrix operation; 'truncation' here means looking only at submatrices of the full decomposition. LSA seeks not only to find a reduced-sized matrix but also to capture similarities that come not just from direct co-occurrence, but also from second-order co-occurrence."
   ]
  },
  {
   "cell_type": "code",
   "execution_count": 31,
   "metadata": {
    "collapsed": false
   },
   "outputs": [],
   "source": [
    "def lsa(mat=None, rownames=None, k=100):\n",
    "    \"\"\"Latent Semantic Analysis using pure scipy.\n",
    "    \n",
    "    Parameters\n",
    "    ----------\n",
    "    mat : 2d np.array\n",
    "       The matrix to operate on.\n",
    "           \n",
    "    rownames : list of str or None\n",
    "        Not used; it's an argument only for consistency with other methods \n",
    "        defined here.\n",
    "        \n",
    "    k : int (default: 100)\n",
    "        Number of dimensions to truncate to.\n",
    "        \n",
    "    Returns\n",
    "    -------    \n",
    "    (np.array, list of str)\n",
    "        The first member is the SVD-reduced version of `mat` with \n",
    "        dimension (m x k), where m is the rowcount of mat and `k` is \n",
    "        either the user-supplied k or the column count of `mat`, whichever \n",
    "        is smaller. The second member is `rownames` (unchanged).\n",
    "\n",
    "    \"\"\"    \n",
    "    rowmat, singvals, colmat = svd(mat, full_matrices=False)\n",
    "    singvals = np.diag(singvals)\n",
    "    trunc = np.dot(rowmat[:, 0:k], singvals[0:k, 0:k])\n",
    "    return (trunc, rownames)"
   ]
  },
  {
   "cell_type": "markdown",
   "metadata": {},
   "source": [
    "Here's a look at the example from the slides:"
   ]
  },
  {
   "cell_type": "code",
   "execution_count": 32,
   "metadata": {
    "collapsed": false
   },
   "outputs": [],
   "source": [
    "gnmat = np.array([\n",
    "    [1,0,1,0,0,0],\n",
    "    [0,1,0,1,0,0],\n",
    "    [1,1,1,1,0,0],\n",
    "    [0,0,0,0,1,1],\n",
    "    [0,0,0,0,0,1]], dtype='float64')\n",
    "gn_rownames = ['gnarly', 'wicked', 'awesome', 'lame', 'terrible']"
   ]
  },
  {
   "cell_type": "code",
   "execution_count": 33,
   "metadata": {
    "collapsed": false
   },
   "outputs": [
    {
     "data": {
      "text/plain": [
       "[('gnarly', 2.2204460492503131e-16),\n",
       " ('awesome', 0.29289321881345254),\n",
       " ('wicked', 1.0),\n",
       " ('lame', 1.0),\n",
       " ('terrible', 1.0)]"
      ]
     },
     "execution_count": 33,
     "metadata": {},
     "output_type": "execute_result"
    }
   ],
   "source": [
    "neighbors(word='gnarly', mat=gnmat, rownames=gn_rownames)"
   ]
  },
  {
   "cell_type": "markdown",
   "metadata": {},
   "source": [
    "We see that _gnarly_ and _wicked_ are not close to each other. (Well, it's a small space, but they are as close as _gnarly_ and _lame_.) Reweighting by PMI, PPMI, or TF-IDF is no help. LSA to the rescue:"
   ]
  },
  {
   "cell_type": "code",
   "execution_count": 34,
   "metadata": {
    "collapsed": false
   },
   "outputs": [],
   "source": [
    "gnmat_lsa = lsa(mat=gnmat, rownames=gn_rownames, k=2)"
   ]
  },
  {
   "cell_type": "code",
   "execution_count": 35,
   "metadata": {
    "collapsed": false
   },
   "outputs": [
    {
     "data": {
      "text/plain": [
       "[('gnarly', 0.0),\n",
       " ('wicked', 0.0),\n",
       " ('awesome', 0.0),\n",
       " ('lame', 1.0),\n",
       " ('terrible', 1.0)]"
      ]
     },
     "execution_count": 35,
     "metadata": {},
     "output_type": "execute_result"
    }
   ],
   "source": [
    "neighbors(word='gnarly', mat=gnmat_lsa[0], rownames=gnmat_lsa[1])"
   ]
  },
  {
   "cell_type": "markdown",
   "metadata": {},
   "source": [
    "The [sklearn.decomposition](http://scikit-learn.org/stable/modules/classes.html#module-sklearn.decomposition) module contains an implementation of LSA ([TruncatedSVD](http://scikit-learn.org/stable/modules/generated/sklearn.decomposition.TruncatedSVD.html#sklearn.decomposition.TruncatedSVD)) that you might want to switch to for real experiments: \n",
    "\n",
    "* The `sklearn` version is more flexible than the above in that it can operate on both dense matrices (Numpy arrays) and sparse matrices (from Scipy).\n",
    "* The `sklearn` version will make it easy to try out other dimensionality reduction methods in your own code; Principal Component Analysis ([PCA](http://scikit-learn.org/stable/modules/generated/sklearn.decomposition.PCA.html#sklearn.decomposition.PCA)) and Non-Negative Matrix Factorization ([NMF](http://scikit-learn.org/stable/modules/generated/sklearn.decomposition.NMF.html#sklearn.decomposition.NMF)) are definitely worth a look."
   ]
  },
  {
   "cell_type": "markdown",
   "metadata": {},
   "source": [
    "## Visualization"
   ]
  },
  {
   "cell_type": "markdown",
   "metadata": {},
   "source": [
    "You can begin to get a feel for what your matrix is like by poking around with the `neighbors` function to see who is close to or far from whom. But this kind of sampling is unlikely to lead to robust new insights, unless you luck out and start to see an interesting cluster of associations developing.\n",
    "\n",
    "[t-Distributed Stochastic Neighbor Embedding](http://jmlr.org/papers/volume9/vandermaaten08a/vandermaaten08a.pdf) (t-SNE) is a powerful method for visualizing high-dimensional vector spaces in 2d. It allows you to find associations in an intuitive way, to guide later and more precise investigations. `sklearn` now contains a high-performance implementation: [sklearn.manifold.TSNE](http://scikit-learn.org/stable/modules/generated/sklearn.manifold.TSNE.html#sklearn.manifold.TSNE)."
   ]
  },
  {
   "cell_type": "code",
   "execution_count": 36,
   "metadata": {
    "collapsed": false
   },
   "outputs": [],
   "source": [
    "def tsne_viz(\n",
    "        mat,\n",
    "        rownames,\n",
    "        colors=None,\n",
    "        output_filename=None,\n",
    "        figheight=40,\n",
    "        figwidth=50):     \n",
    "    \"\"\"2d plot of `mat` using t-SNE, with the points labeled by `rownames`, \n",
    "    aligned with `colors` (defaults to all black).\n",
    "    \n",
    "    Parameters\n",
    "    ----------    \n",
    "    mat : 2d np.array\n",
    "        The matrix to visualize.\n",
    "        \n",
    "    rownames : list of str\n",
    "        Names of the points to visualize.\n",
    "                \n",
    "    colors : list of colornames or None (default: None)\n",
    "        Optional list of colors for rownames. The color names just need to \n",
    "        be interpretable by matplotlib. If they are supplied, they need to \n",
    "        have the same length as rownames, or indices if that is not None. \n",
    "        If `colors=None`, then all the words are displayed in black.\n",
    "      \n",
    "    output_filename : str (default: None)\n",
    "        If not None, then the output image is written to this location. The \n",
    "        filename suffix determines the image type. If None, then \n",
    "        `plt.plot()` is called, with the behavior determined by the \n",
    "        environment.\n",
    "        \n",
    "    figheight : int (default: 40)\n",
    "        Height in display units of the output.\n",
    "            \n",
    "    figwidth : int (default: 50)\n",
    "        Width in display units of the output.\n",
    "        \n",
    "    \"\"\"\n",
    "    indices = list(range(len(rownames)))\n",
    "    # Colors:\n",
    "    if not colors:\n",
    "        colors = ['black' for i in indices]    \n",
    "    # Recommended reduction via PCA or similar:\n",
    "    n_components = 50 if mat.shape[1] >= 50 else mat.shape[1]\n",
    "    dimreduce = PCA(n_components=n_components)\n",
    "    mat = dimreduce.fit_transform(mat)\n",
    "    # t-SNE:\n",
    "    tsne = TSNE(n_components=2, random_state=0)\n",
    "    np.set_printoptions(suppress=True)    \n",
    "    tsnemat = tsne.fit_transform(mat) \n",
    "    # Plot values:\n",
    "    vocab = np.array(rownames)[indices]\n",
    "    xvals = tsnemat[indices, 0] \n",
    "    yvals = tsnemat[indices, 1]\n",
    "    # Plotting:\n",
    "    fig, ax = plt.subplots(nrows=1, ncols=1)\n",
    "    fig.set_figheight(40)\n",
    "    fig.set_figwidth(50)\n",
    "    ax.plot(xvals, yvals, marker='', linestyle='')\n",
    "    # Text labels:\n",
    "    for word, x, y, color in zip(vocab, xvals, yvals, colors):\n",
    "        ax.annotate(word, (x, y), fontsize=8, color=color)\n",
    "    # Output:\n",
    "    if output_filename:\n",
    "        plt.savefig(output_filename, bbox_inches='tight')\n",
    "    else:\n",
    "        plt.show()"
   ]
  },
  {
   "cell_type": "markdown",
   "metadata": {},
   "source": [
    "Here's the code for running this on `ww_ppmi` using the default settings:"
   ]
  },
  {
   "cell_type": "code",
   "execution_count": null,
   "metadata": {
    "collapsed": false
   },
   "outputs": [],
   "source": [
    "tsne_viz(mat=ww_ppmi[0], rownames=ww_ppmi[1])"
   ]
  },
  {
   "cell_type": "markdown",
   "metadata": {},
   "source": [
    "For more on the techniques, we highly recommend van der Maaten's compelling talk [Visualizing Data Using t-SNE](https://www.youtube.com/watch?v=RJVL80Gg3lA)."
   ]
  },
  {
   "cell_type": "markdown",
   "metadata": {},
   "source": [
    "## GloVe word representations"
   ]
  },
  {
   "cell_type": "markdown",
   "metadata": {},
   "source": [
    "We've so far performed our matrix manipulations without an explicit objective function. Rather, we've just had in mind informal ideas about capturing semantic relatedness. The  advantage of an explicit objective function is that we can apply standard optimization techniques.\n",
    "\n",
    "[Pennington et al. (2014)](http://www.aclweb.org/anthology/D/D14/D14-1162.pdf) introduce an objective function for semantic word representations. Roughly speaking, the objective is to learn vectors for words $w_{i}$ and $w_{j}$ such that their dot product is proportional to their co-occurrence count. I won't venture a full technical summary of the GloVe method here. Check out [the GloVe project homepage](http://nlp.stanford.edu/projects/glove/), which links to C code, word vectors, and other resources. I also highly recommend\n",
    "[Jeffrey Pennington's EMNLP talk 'Global vectors for word representation'](https://www.youtube.com/watch?v=RyTpzZQrHCs).\n",
    "\n",
    "The following implementation is an attempt to give the most stripped-down, bare-bones version of the GloVe method possible. In the papers and associated implementation, the authors use the [Adaptive Gradient (AdaGrad) learning method](http://jmlr.org/papers/v12/duchi11a.html). [Jon Gauthier released a Python version that uses that method as well](http://www.foldl.me/2014/glove-python/). Both of these implementations also do considerably more sophisticated things when it comes to compiling the basic co-occurrence counts. The code here is really just meant for instructional purposes. That said, it's a testament to the power of the method that it delivers high quality word vectors even in this basic form!"
   ]
  },
  {
   "cell_type": "code",
   "execution_count": 37,
   "metadata": {
    "collapsed": false
   },
   "outputs": [],
   "source": [
    "def glove(mat, rownames, n=100, xmax=100, alpha=0.75, \n",
    "          iterations=100, learning_rate=0.05, \n",
    "          display_progress=True):\n",
    "    \"\"\"Basic GloVe. \n",
    "    \n",
    "    Parameters\n",
    "    ----------\n",
    "    mat : 2d np.array\n",
    "        This must be a square count matrix.\n",
    "        \n",
    "    rownames : list of str or None\n",
    "        Not used; it's an argument only for consistency with other methods \n",
    "        defined here.\n",
    "        \n",
    "    n : int (default: 100)\n",
    "        The dimensionality of the output vectors.\n",
    "    \n",
    "    xmax : int (default: 100)\n",
    "        Words with frequency greater than this are given weight 1.0.\n",
    "        Words with frequency under this are given weight (c/xmax)**alpha\n",
    "        where c is their count in mat (see the paper, eq. (9)).\n",
    "        \n",
    "    alpha : float (default: 0.75)\n",
    "        Exponent in the weighting function (see the paper, eq. (9)).\n",
    "    \n",
    "    iterations : int (default: 100)\n",
    "        Number of training epochs.\n",
    "        \n",
    "    learning_rate : float (default: 0.05)\n",
    "        Controls the rate of SGD weight updates.\n",
    "        \n",
    "    display_progress : bool (default: True) \n",
    "        Whether to print iteration number and current error to stdout.\n",
    "        \n",
    "    Returns\n",
    "    -------\n",
    "    (np.array, list of str)\n",
    "       The first member is the learned GloVe matrix and the second is\n",
    "       `rownames` (unchanged).\n",
    "\n",
    "    \"\"\"        \n",
    "    m = mat.shape[0]\n",
    "    W = utils.randmatrix(m, n) # Word weights.\n",
    "    C = utils.randmatrix(m, n) # Context weights.\n",
    "    B = utils.randmatrix(2, m) # Word and context biases.\n",
    "    indices = list(range(m))\n",
    "    for iteration in range(iterations):\n",
    "        error = 0.0        \n",
    "        random.shuffle(indices)\n",
    "        for i, j in itertools.product(indices, indices):\n",
    "            if mat[i,j] > 0.0:     \n",
    "                # Weighting function from eq. (9)\n",
    "                weight = (mat[i,j] / xmax)**alpha if mat[i,j] < xmax else 1.0\n",
    "                # Cost is J' based on eq. (8) in the paper:\n",
    "                diff = np.dot(W[i], C[j]) + B[0,i] + B[1,j] - np.log(mat[i,j])                \n",
    "                fdiff = diff * weight                \n",
    "                # Gradients:\n",
    "                wgrad = fdiff * C[j]\n",
    "                cgrad = fdiff * W[i]\n",
    "                wbgrad = fdiff\n",
    "                wcgrad = fdiff\n",
    "                # Updates:\n",
    "                W[i] -= (learning_rate * wgrad) \n",
    "                C[j] -= (learning_rate * cgrad) \n",
    "                B[0,i] -= (learning_rate * wbgrad) \n",
    "                B[1,j] -= (learning_rate * wcgrad)                 \n",
    "                # One-half squared error term:                              \n",
    "                error += 0.5 * weight * (diff**2)\n",
    "        if display_progress:\n",
    "            utils.progress_bar(\"iteration %s: error %s\" % (iteration, error))\n",
    "    if display_progress:\n",
    "        sys.stderr.write('\\n')\n",
    "    # Return the sum of the word and context matrices, per the advice \n",
    "    # in section 4.2:\n",
    "    return (W + C, rownames)"
   ]
  },
  {
   "cell_type": "markdown",
   "metadata": {},
   "source": [
    "It is not easy analyze GloVe values derived from real data, but the following little simulation suggests that `glove` is working as advertised: it does seem to reliably deliver vectors whose dot products are proportional to their co-occurrence counts:"
   ]
  },
  {
   "cell_type": "code",
   "execution_count": 38,
   "metadata": {
    "collapsed": false
   },
   "outputs": [
    {
     "name": "stderr",
     "output_type": "stream",
     "text": [
      "iteration 2999: error 0.0319158801484\n"
     ]
    },
    {
     "data": {
      "image/png": "[encoded data removed]",
      "text/plain": [
       "<matplotlib.figure.Figure at 0x9e075f8>"
      ]
     },
     "metadata": {},
     "output_type": "display_data"
    }
   ],
   "source": [
    "def glove_analysis(n=2, iterations=3000):\n",
    "    \"\"\"Run GloVe and plot the dot products of the resulting vectors relative\n",
    "    to the input co-occurrence counts. `n` and `iterations` are parameters to\n",
    "    `glove`. Higher `iterations` and`n` come closer to the ideal.\"\"\"\n",
    "    vocab = ['A', 'B', 'C', 'D']\n",
    "    mat = np.array([\n",
    "        [10.0,  2.0,  3.0,  4.0],\n",
    "        [ 2.0, 10.0,  4.0,  1.0],\n",
    "        [ 3.0,  4.0, 10.0,  2.0],\n",
    "        [ 4.0,  1.0,  2.0, 10.0]])\n",
    "    glv, _ = glove(mat, vocab, n=n, iterations=iterations)\n",
    "    labels = []\n",
    "    cooccurs = []\n",
    "    vals = []\n",
    "    m = len(vocab)\n",
    "    for i in range(m):        \n",
    "        for j in range(i, m):\n",
    "            labels.append(vocab[i]+vocab[j])\n",
    "            cooccurs.append(mat[i,j])\n",
    "            vals.append(glv[i].dot(glv[j]))            \n",
    "    plt.plot(cooccurs, vals, marker='', linestyle='')\n",
    "    for c, v, lab in zip(cooccurs, vals, labels):\n",
    "        plt.annotate(lab, (c, v))    \n",
    "    plt.xlabel(\"Co-occurence count\")\n",
    "    plt.ylabel(\"Dot product of GloVe vectors\")\n",
    "    plt.xlim([np.min(cooccurs)*1.2,np.max(cooccurs)*1.2])\n",
    "    plt.ylim([np.min(vals)*1.2,np.max(vals)*1.2])\n",
    "    \n",
    "glove_analysis()    "
   ]
  },
  {
   "cell_type": "markdown",
   "metadata": {},
   "source": [
    "The following takes a while to run, but the results look good, and they can be  improved by adding more vocabulary items, allowing more iterations, and increasing the dimension size. For the output with 100 dimensions and 100 iterations, check out this image: [fig/imdb-wordword-glove100.pdf](fig/imdb-wordword-glove100.pdf)."
   ]
  },
  {
   "cell_type": "code",
   "execution_count": 39,
   "metadata": {
    "collapsed": false
   },
   "outputs": [],
   "source": [
    "def glove_viz(mat, rownames, word_count=1000, \n",
    "        iterations=10, n=50, display_progress=True):    \n",
    "    \"\"\"Visualize a random sample of `word_count` words in `mat` \n",
    "    after GloVe training.\"\"\"   \n",
    "    glove_indices = np.random.choice(range(len(rownames)), size=word_count)\n",
    "    samp = np.array(rownames)[glove_indices]\n",
    "    glovemat, _ = glove(mat[glove_indices, :], samp, iterations=iterations, n=n)\n",
    "    tsne_viz(mat=glovemat, rownames=samp)"
   ]
  },
  {
   "cell_type": "code",
   "execution_count": 40,
   "metadata": {
    "collapsed": false,
    "scrolled": true
   },
   "outputs": [],
   "source": [
    "# glove_viz(mat=ww[0], rownames=ww[1])"
   ]
  },
  {
   "cell_type": "markdown",
   "metadata": {},
   "source": [
    "## In-class exploration: The semantic orientation method"
   ]
  },
  {
   "cell_type": "markdown",
   "metadata": {},
   "source": [
    "The [t-SNE visualization of our running example](#Visualization) suggests some lexical clusters that in turn suggest the beginnings of a lexicon. The __semantic orientation__ method of [Turney and Littman 2003](http://doi.acm.org/10.1145/944012.944013) is a general method for building such lexicons for any desired semantic dimension.\n",
    "\n",
    "__Your task__: Pick a new semantic opposition and see how well `semantic_orientation` captures it using a VSM built from `wordword` or `worddoc`. \n",
    "\n",
    "The broader goal is to give you a chance to explore the code and concepts above with an eye towards building a semantic lexicon. Using [`neighbors`](#Distributional-neighbors) will give you a feel for what works and what doesn't. \n",
    "\n",
    "__Submit__: At the end of class, bring a summary of your opposition (e.g., \"Love/Hate &ndash; worked okay\") to one of the teaching team. We'll summarize the overall findings in the class discussion forum later."
   ]
  },
  {
   "cell_type": "markdown",
   "metadata": {},
   "source": [
    "The semantic orientation method simply exploits our above insights about vector similarity. Here are the steps:\n",
    "\n",
    "0. Define two seed-sets $S_1$ and $S_2$ of words (they should be opposing in some way that is appropriate for your matrix).\n",
    "0. Pick a vector distance measure $f$.\n",
    "0. For the word $w$ of interest, use $f$ to get the sum of all distances between $w$ and the words in $S_1$. Do the same for $S_2$.\n",
    "0. The score is the sum for $S_1$ minus the sum for $S_2$.\n",
    "\n",
    "Here's an implementation; the default seed values correspond to Turney and Littman's basic sentiment experiment."
   ]
  },
  {
   "cell_type": "code",
   "execution_count": 41,
   "metadata": {
    "collapsed": false
   },
   "outputs": [],
   "source": [
    "def semantic_orientation(\n",
    "        mat, \n",
    "        rownames,\n",
    "        seeds1=('bad', 'nasty', 'poor', 'negative', 'unfortunate', 'wrong', 'inferior'),\n",
    "        seeds2=('good', 'nice', 'excellent', 'positive', 'fortunate', 'correct', 'superior'),\n",
    "        distfunc=cosine):    \n",
    "    \"\"\"No frills implementation of the semantic Orientation (SO) method of \n",
    "    Turney and Littman. seeds1 and seeds2 should be representative members \n",
    "    of two intutively opposing semantic classes. The method will then try \n",
    "    to rank the vocabulary by its relative association with each seed set.\n",
    "        \n",
    "    Parameters\n",
    "    ----------\n",
    "    mat : 2d np.array\n",
    "        The matrix used to derive the SO ranking.\n",
    "        \n",
    "    rownames : list of str\n",
    "        The names of the rows of `mat` (the vocabulary).\n",
    "        \n",
    "    seeds1 : tuple of str\n",
    "        The default is the negative seed set of Turney and Littman.\n",
    "        \n",
    "    seeds2 : tuple of str\n",
    "        The default is the positive seed set of Turney and Littman.\n",
    "        \n",
    "    distfunc : function mapping vector pairs to floats (default: `cosine`)\n",
    "        The measure of distance between vectors. Can also be `euclidean`, \n",
    "        `matching`, `jaccard`, as well as any other distance measure \n",
    "        between 1d vectors. \n",
    "    \n",
    "    Returns\n",
    "    -------    \n",
    "    list of tuples\n",
    "        The vocabulary ranked according to the SO method, with words \n",
    "        closest to `seeds1` at the top and words closest to `seeds2` at the \n",
    "        bottom. Each member of the list is a (word, score) pair.\n",
    "    \n",
    "    \"\"\"    \n",
    "    sm1 = _so_seed_matrix(seeds1, mat, rownames)\n",
    "    sm2 = _so_seed_matrix(seeds2, mat, rownames)\n",
    "    scores = [(rownames[i], _so_row_func(mat[i], sm1, sm2, distfunc)) for i in range(len(mat))]\n",
    "    return sorted(scores, key=itemgetter(1), reverse=False)\n",
    "\n",
    "def _so_seed_matrix(seeds, mat, rownames):\n",
    "    indices = [rownames.index(word) for word in seeds if word in rownames]\n",
    "    if not indices:\n",
    "        raise ValueError('The matrix contains no members of the seed set: %s' % \",\".join(seeds))\n",
    "    return mat[np.array(indices)]\n",
    "    \n",
    "def _so_row_func(row, sm1, sm2, distfunc):\n",
    "    val1 = np.sum([distfunc(row, srow) for srow in sm1])\n",
    "    val2 = np.sum([distfunc(row, srow) for srow in sm2])\n",
    "    return val1 - val2    "
   ]
  },
  {
   "cell_type": "markdown",
   "metadata": {},
   "source": [
    "An example function call using `ww_ppmi`:"
   ]
  },
  {
   "cell_type": "code",
   "execution_count": 42,
   "metadata": {
    "collapsed": false
   },
   "outputs": [
    {
     "data": {
      "text/plain": [
       "[('poor', -1.2397213851709856),\n",
       " ('bad', -1.2213826663029765),\n",
       " ('worst', -1.1351666124996971),\n",
       " ('awful', -1.1048739686983322),\n",
       " ('waste', -1.0236360853957418)]"
      ]
     },
     "execution_count": 42,
     "metadata": {},
     "output_type": "execute_result"
    }
   ],
   "source": [
    "so = semantic_orientation(mat=ww_ppmi[0], rownames=ww_ppmi[1])\n",
    "so[:5]"
   ]
  },
  {
   "cell_type": "code",
   "execution_count": 43,
   "metadata": {
    "collapsed": false
   },
   "outputs": [
    {
     "data": {
      "text/plain": [
       "[('well', 0.75360884916526505),\n",
       " ('superior', 0.81493927722684845),\n",
       " ('great', 0.89100807935189197),\n",
       " ('nice', 0.93295714329167545),\n",
       " ('excellent', 1.1687082653604852)]"
      ]
     },
     "execution_count": 43,
     "metadata": {},
     "output_type": "execute_result"
    }
   ],
   "source": [
    "so[-5:]"
   ]
  },
  {
   "cell_type": "markdown",
   "metadata": {},
   "source": [
    "## In-class bake-off: Word similarity"
   ]
  },
  {
   "cell_type": "markdown",
   "metadata": {},
   "source": [
    "Word similarity datasets have long been used to evaluate distributional (more generally, distributed) representations. This section provides basic code for conducting such analyses with four datasets: \n",
    "\n",
    "* [WordSim-353](http://www.cs.technion.ac.il/~gabr/resources/data/wordsim353/) \n",
    "* [MTurk-287](http://tx.technion.ac.il/~kirar/Datasets.html)\n",
    "* [Mturk-771](http://www2.mta.ac.il/~gideon/mturk771.html)\n",
    "* [The MEN Test Collection](http://clic.cimec.unitn.it/~elia.bruni/MEN) (3,000 pairs)\n",
    "\n",
    "For the first three, the numeral in its name is the number of pairs it contains.\n",
    "\n",
    "If you want to push this task further, consider using additional datasets from [http://wordvectors.org/](http://wordvectors.org/) and perhaps even taking advantage of the evaluation infrastructure it provides. (For additional details, see [the associated paper](http://www.aclweb.org/anthology/P/P14/P14-5004.pdf).)"
   ]
  },
  {
   "cell_type": "markdown",
   "metadata": {},
   "source": [
    "First, a bit of reader infrastructure for the datasets included in `vsmdata/wordsim`:"
   ]
  },
  {
   "cell_type": "code",
   "execution_count": 44,
   "metadata": {
    "collapsed": true
   },
   "outputs": [],
   "source": [
    "def wordsim_dataset_reader(src_filename, header=False, delimiter=','):    \n",
    "    \"\"\"Basic reader that works for all four files, since they all have the \n",
    "    format word1,word2,score, differing only in whether or not they include \n",
    "    a header line and what delimiter they use.\n",
    "    \n",
    "    Parameters\n",
    "    ----------\n",
    "    src_filename : str\n",
    "        Full path to the source file.\n",
    "        \n",
    "    header : bool (default: False)\n",
    "        Whether `src_filename` has a header.\n",
    "        \n",
    "    delimiter : str (default: ',')\n",
    "        Field delimiter in `src_filename`.\n",
    "    \n",
    "    Yields\n",
    "    ------    \n",
    "    (str, str, float)\n",
    "       (w1, w2, score) where `score` is the negative of the similarity \n",
    "       score in the file so that we are intuitively aligned with our \n",
    "       distance-based code.\n",
    "    \n",
    "    \"\"\"\n",
    "    reader = csv.reader(open(src_filename), delimiter=delimiter)\n",
    "    if header:\n",
    "        next(reader)\n",
    "    for row in reader:\n",
    "        w1, w2, score = row\n",
    "        # Negative of scores to align intuitively with distance functions:\n",
    "        score = -float(score)\n",
    "        yield (w1, w2, score)\n",
    "\n",
    "def wordsim353_reader():\n",
    "    \"\"\"WordSim-353: http://www.cs.technion.ac.il/~gabr/resources/data/wordsim353/\"\"\"\n",
    "    src_filename = os.path.join(vsmdata_home, 'wordsim', 'wordsim353.csv')\n",
    "    return wordsim_dataset_reader(src_filename, header=True)\n",
    " \n",
    "def mturk287_reader():\n",
    "    \"\"\"MTurk-287: http://tx.technion.ac.il/~kirar/Datasets.html\"\"\"\n",
    "    src_filename = os.path.join(vsmdata_home, 'wordsim', 'MTurk-287.csv')\n",
    "    return wordsim_dataset_reader(src_filename, header=False)\n",
    "    \n",
    "def mturk771_reader():\n",
    "    \"\"\"MTURK-771: http://www2.mta.ac.il/~gideon/mturk771.html\"\"\"\n",
    "    src_filename = os.path.join(vsmdata_home, 'wordsim', 'MTURK-771.csv')\n",
    "    return wordsim_dataset_reader(src_filename, header=False)\n",
    "\n",
    "def men_reader():\n",
    "    \"\"\"MEN: http://clic.cimec.unitn.it/~elia.bruni/MEN\"\"\"\n",
    "    src_filename = os.path.join(vsmdata_home, 'wordsim', 'MEN_dataset_natural_form_full')\n",
    "    return wordsim_dataset_reader(src_filename, header=False, delimiter=' ')    "
   ]
  },
  {
   "cell_type": "markdown",
   "metadata": {},
   "source": [
    "And here's a function for evaluating a VSM against one of the word-similarity datasets"
   ]
  },
  {
   "cell_type": "code",
   "execution_count": 45,
   "metadata": {
    "collapsed": false
   },
   "outputs": [],
   "source": [
    "def word_similarity_evaluation(reader, mat, rownames, distfunc=cosine):\n",
    "    \"\"\"Word-similarity evalution framework.\n",
    "    \n",
    "    Parameters\n",
    "    ----------\n",
    "    reader : iterator\n",
    "        A reader for a word-similarity dataset. Just has to yield\n",
    "        tuples (word1, word2, score).\n",
    "    \n",
    "    mat : 2d np.array\n",
    "        The VSM being evaluated.\n",
    "        \n",
    "    rownames : list of str\n",
    "        The names of the rows in mat.\n",
    "        \n",
    "    distfunc : function mapping vector pairs to floats (default: `cosine`)\n",
    "        The measure of distance between vectors. Can also be `euclidean`, \n",
    "        `matching`, `jaccard`, as well as any other distance measure \n",
    "        between 1d vectors.  \n",
    "    \n",
    "    Prints\n",
    "    ------\n",
    "    To standard output\n",
    "        Size of the vocabulary overlap between the evaluation set and\n",
    "        rownames. We limit the evalation to the overlap, paying no price\n",
    "        for missing words (which is not fair, but it's reasonable given\n",
    "        that we're working with very small VSMs in this notebook).\n",
    "    \n",
    "    Returns\n",
    "    -------\n",
    "    float\n",
    "        The Spearman rank correlation coefficient between the dataset\n",
    "        scores and the similarity values obtained from `mat` using \n",
    "        `distfunc`. This evaluation is sensitive only to rankings, not\n",
    "        to absolute values.\n",
    "    \n",
    "    \"\"\"    \n",
    "    sims = defaultdict(list)\n",
    "    vocab = set([])\n",
    "    for w1, w2, score in reader():\n",
    "        if w1 in rownames and w2 in rownames:\n",
    "            sims[w1].append((w2, score))\n",
    "            sims[w2].append((w1, score))\n",
    "            vocab.add(w1)\n",
    "            vocab.add(w2)\n",
    "    print(\"Evaluation vocabulary size: %s\" % len(vocab))\n",
    "    # Evaluate the matrix by creating a vector of all_scores for data\n",
    "    # and all_dists for mat's distances. \n",
    "    all_scores = []\n",
    "    all_dists = []\n",
    "    for word in vocab:\n",
    "        vec = mat[rownames.index(word)]\n",
    "        vals = sims[word]\n",
    "        cmps, scores = zip(*vals)\n",
    "        all_scores += scores\n",
    "        all_dists += [distfunc(vec, mat[rownames.index(w)]) for w in cmps]\n",
    "    # Return just the rank correlation coefficient (index [1] would be the p-value):\n",
    "    return scipy.stats.spearmanr(all_scores, all_dists)[0]   "
   ]
  },
  {
   "cell_type": "markdown",
   "metadata": {},
   "source": [
    "Evaluation is then simple. The following lets us evaluate a VSM against all four datasets:"
   ]
  },
  {
   "cell_type": "code",
   "execution_count": 46,
   "metadata": {
    "collapsed": false
   },
   "outputs": [],
   "source": [
    "def full_word_similarity_evaluation(mat, rownames):\n",
    "    \"\"\"Evaluate the (mat, rownames) VSM against all four datasets.\"\"\"\n",
    "    reader = wordsim353_reader\n",
    "    print(\"=\"*40)\n",
    "    print(reader.__name__)\n",
    "    for distf in (cosine, euclidean, jaccard, JSD):\n",
    "        print(distf.__name__)\n",
    "        print('Spearman r: %0.03f' % word_similarity_evaluation(reader, mat, rownames, distfunc=distf))\n",
    "    print(\"=\"*40)"
   ]
  },
  {
   "cell_type": "code",
   "execution_count": 18,
   "metadata": {
    "collapsed": true
   },
   "outputs": [],
   "source": [
    "from scipy.stats import entropy\n",
    "from numpy.linalg import norm\n",
    "from sklearn.decomposition import PCA\n",
    "def JSD(u, v):\n",
    "    _u = u / norm(u, ord=1)\n",
    "    _v = v / norm(v, ord=1)\n",
    "    _m = 0.5 * (_u + _v)\n",
    "    return 0.5 * (entropy(_u, _m) + entropy(_v, _m))\n",
    "def PCA_Reduction(mat, k):\n",
    "    pca = PCA(n_components=k)\n",
    "    pca.fit(mat)\n",
    "    return pca.transform(mat)"
   ]
  },
  {
   "cell_type": "code",
   "execution_count": 47,
   "metadata": {
    "collapsed": false
   },
   "outputs": [],
   "source": [
    "#PPMI\n",
    "ww_ppmi = pmi(mat=ww[0], rownames=ww[1], positive=True)\n",
    "wd_ppmi = pmi(mat=wd[0], rownames=wd[1], positive=True)\n",
    "\n",
    "#PMI\n",
    "ww_pmi = pmi(mat=ww[0], rownames=ww[1], positive=False)\n",
    "wd_pmi = pmi(mat=wd[0], rownames=wd[1], positive=False)\n",
    "\n",
    "#TFIDF\n",
    "wd_tfidf = tfidf(mat=wd[0], rownames=wd[1])\n",
    "ww_tfidf = tfidf(mat=ww[0], rownames=ww[1])\n",
    "\n",
    "#LSA RAW\n",
    "ww_lsa = lsa(mat=ww[0], rownames=ww[1], k=2500)\n",
    "wd_lsa = lsa(mat=wd[0], rownames=wd[1], k=2500)\n",
    "\n",
    "#LSA PPMI\n",
    "ww_lsa_ppmi = lsa(mat=ww_ppmi[0], rownames=ww_ppmi[1], k=2500)\n",
    "wd_lsa_ppmi = lsa(mat=wd_ppmi[0], rownames=wd_ppmi[1], k=2500)\n",
    "\n",
    "#LSA PMI\n",
    "ww_lsa_pmi = lsa(mat=ww_pmi[0], rownames=ww_pmi[1], k=2500)\n",
    "wd_lsa_pmi = lsa(mat=wd_pmi[0], rownames=wd_pmi[1], k=2500)\n",
    "\n",
    "#LSA TFIDF\n",
    "ww_lsa_tfidf = lsa(mat=ww_tfidf[0], rownames=ww_tfidf[1], k=2500)\n",
    "wd_lsa_tfidf = lsa(mat=wd_tfidf[0], rownames=wd_tfidf[1], k=2500)"
   ]
  },
  {
   "cell_type": "code",
   "execution_count": 48,
   "metadata": {
    "collapsed": false
   },
   "outputs": [
    {
     "data": {
      "text/plain": [
       "2998"
      ]
     },
     "execution_count": 48,
     "metadata": {},
     "output_type": "execute_result"
    }
   ],
   "source": [
    "len(ww_lsa_ppmi[0])"
   ]
  },
  {
   "cell_type": "code",
   "execution_count": 49,
   "metadata": {
    "collapsed": false
   },
   "outputs": [],
   "source": [
    "#PCA LSA PPMI\n",
    "ww_pca_lsa_ppmi = PCA_Reduction(ww_lsa_ppmi[0], k = 2500)\n",
    "wd_pca_lsa_ppmi = PCA_Reduction(wd_lsa_ppmi[0], k = 2500)\n",
    "\n",
    "#PCA LSA PMI\n",
    "ww_pca_lsa_pmi = PCA_Reduction(ww_lsa_pmi[0], k = 2500)\n",
    "wd_pca_lsa_pmi = PCA_Reduction(wd_lsa_pmi[0], k = 2500)"
   ]
  },
  {
   "cell_type": "code",
   "execution_count": 50,
   "metadata": {
    "collapsed": false
   },
   "outputs": [
    {
     "name": "stdout",
     "output_type": "stream",
     "text": [
      "WW PCA LSA PPMI\n",
      "========================================\n",
      "wordsim353_reader\n",
      "cosine\n",
      "Evaluation vocabulary size: 118\n",
      "Spearman r: 0.621\n",
      "euclidean\n",
      "Evaluation vocabulary size: 118\n",
      "Spearman r: 0.035\n",
      "jaccard\n",
      "Evaluation vocabulary size: 118\n",
      "Spearman r: 0.052\n",
      "JSD\n",
      "Evaluation vocabulary size: 118\n"
     ]
    },
    {
     "name": "stderr",
     "output_type": "stream",
     "text": [
      "C:\\Users\\ritik\\Anaconda2\\lib\\site-packages\\numpy\\lib\\function_base.py:2569: RuntimeWarning: invalid value encountered in true_divide\n",
      "  c /= stddev[:, None]\n",
      "C:\\Users\\ritik\\Anaconda2\\lib\\site-packages\\numpy\\lib\\function_base.py:2570: RuntimeWarning: invalid value encountered in true_divide\n",
      "  c /= stddev[None, :]\n",
      "C:\\Users\\ritik\\Anaconda2\\lib\\site-packages\\scipy\\stats\\_distn_infrastructure.py:875: RuntimeWarning: invalid value encountered in greater\n",
      "  return (self.a < x) & (x < self.b)\n",
      "C:\\Users\\ritik\\Anaconda2\\lib\\site-packages\\scipy\\stats\\_distn_infrastructure.py:875: RuntimeWarning: invalid value encountered in less\n",
      "  return (self.a < x) & (x < self.b)\n",
      "C:\\Users\\ritik\\Anaconda2\\lib\\site-packages\\scipy\\stats\\_distn_infrastructure.py:1814: RuntimeWarning: invalid value encountered in less_equal\n",
      "  cond2 = cond0 & (x <= self.a)\n"
     ]
    },
    {
     "name": "stdout",
     "output_type": "stream",
     "text": [
      "Spearman r: nan\n",
      "========================================\n",
      "WD PCA LSA PPMI\n",
      "========================================\n",
      "wordsim353_reader\n",
      "cosine\n",
      "Evaluation vocabulary size: 118\n",
      "Spearman r: 0.501\n",
      "euclidean\n",
      "Evaluation vocabulary size: 118\n",
      "Spearman r: 0.241\n",
      "jaccard\n",
      "Evaluation vocabulary size: 118\n",
      "Spearman r: 0.361\n",
      "JSD\n",
      "Evaluation vocabulary size: 118\n",
      "Spearman r: nan\n",
      "========================================\n",
      "WW PCA LSA PMI\n",
      "========================================\n",
      "wordsim353_reader\n",
      "cosine\n",
      "Evaluation vocabulary size: 118\n",
      "Spearman r: 0.550\n",
      "euclidean\n",
      "Evaluation vocabulary size: 118\n",
      "Spearman r: 0.034\n",
      "jaccard\n",
      "Evaluation vocabulary size: 118\n",
      "Spearman r: -0.153\n",
      "JSD\n",
      "Evaluation vocabulary size: 118\n",
      "Spearman r: nan\n",
      "========================================\n",
      "WD PCA LSA PMI\n",
      "========================================\n",
      "wordsim353_reader\n",
      "cosine\n",
      "Evaluation vocabulary size: 118\n",
      "Spearman r: 0.486\n",
      "euclidean\n",
      "Evaluation vocabulary size: 118\n",
      "Spearman r: 0.168\n",
      "jaccard\n",
      "Evaluation vocabulary size: 118\n",
      "Spearman r: -0.033\n",
      "JSD\n",
      "Evaluation vocabulary size: 118\n",
      "Spearman r: nan\n",
      "========================================\n"
     ]
    }
   ],
   "source": [
    "#PCA LSA PPMI:\n",
    "print('WW PCA LSA PPMI')\n",
    "full_word_similarity_evaluation(ww_pca_lsa_ppmi, ww[1])\n",
    "print('WD PCA LSA PPMI')\n",
    "full_word_similarity_evaluation(wd_pca_lsa_ppmi, wd[1])\n",
    "\n",
    "#PCA LSA PMI:\n",
    "print('WW PCA LSA PMI')\n",
    "full_word_similarity_evaluation(ww_pca_lsa_pmi, ww[1])\n",
    "print('WD PCA LSA PMI')\n",
    "full_word_similarity_evaluation(wd_pca_lsa_pmi, wd[1])"
   ]
  },
  {
   "cell_type": "code",
   "execution_count": 51,
   "metadata": {
    "collapsed": false
   },
   "outputs": [
    {
     "name": "stdout",
     "output_type": "stream",
     "text": [
      "WW\n",
      "========================================\n",
      "wordsim353_reader\n",
      "cosine\n",
      "Evaluation vocabulary size: 118\n",
      "Spearman r: -0.036\n",
      "euclidean\n",
      "Evaluation vocabulary size: 118\n",
      "Spearman r: -0.053\n",
      "jaccard\n",
      "Evaluation vocabulary size: 118\n",
      "Spearman r: -0.037\n",
      "JSD\n",
      "Evaluation vocabulary size: 118\n",
      "Spearman r: 0.022\n",
      "========================================\n",
      "WD\n",
      "========================================\n",
      "wordsim353_reader\n",
      "cosine\n",
      "Evaluation vocabulary size: 118\n",
      "Spearman r: 0.095\n",
      "euclidean\n",
      "Evaluation vocabulary size: 118\n",
      "Spearman r: -0.114\n",
      "jaccard\n",
      "Evaluation vocabulary size: 118\n",
      "Spearman r: 0.035\n",
      "JSD\n",
      "Evaluation vocabulary size: 118\n",
      "Spearman r: 0.105\n",
      "========================================\n",
      "WW LSA\n",
      "========================================\n",
      "wordsim353_reader\n",
      "cosine\n",
      "Evaluation vocabulary size: 118\n",
      "Spearman r: -0.032\n",
      "euclidean\n",
      "Evaluation vocabulary size: 118\n",
      "Spearman r: -0.053\n",
      "jaccard\n",
      "Evaluation vocabulary size: 118\n",
      "Spearman r: 0.136\n",
      "JSD\n",
      "Evaluation vocabulary size: 118\n",
      "Spearman r: nan\n",
      "========================================\n",
      "WD LSA\n",
      "========================================\n",
      "wordsim353_reader\n",
      "cosine\n",
      "Evaluation vocabulary size: 118\n",
      "Spearman r: 0.096\n",
      "euclidean\n",
      "Evaluation vocabulary size: 118\n",
      "Spearman r: -0.114\n",
      "jaccard\n",
      "Evaluation vocabulary size: 118\n",
      "Spearman r: -0.045\n",
      "JSD\n",
      "Evaluation vocabulary size: 118\n",
      "Spearman r: nan\n",
      "========================================\n"
     ]
    }
   ],
   "source": [
    "#Original:\n",
    "print('WW')\n",
    "full_word_similarity_evaluation(ww[0], ww[1])\n",
    "print('WD')\n",
    "full_word_similarity_evaluation(wd[0], wd[1])\n",
    "\n",
    "#LSA:\n",
    "print('WW LSA')\n",
    "full_word_similarity_evaluation(ww_lsa[0], ww_lsa[1])\n",
    "print('WD LSA')\n",
    "full_word_similarity_evaluation(wd_lsa[0], wd_lsa[1])"
   ]
  },
  {
   "cell_type": "code",
   "execution_count": 52,
   "metadata": {
    "collapsed": false
   },
   "outputs": [
    {
     "name": "stdout",
     "output_type": "stream",
     "text": [
      "WW PPMI\n",
      "========================================\n",
      "wordsim353_reader\n",
      "cosine\n",
      "Evaluation vocabulary size: 118\n",
      "Spearman r: 0.566\n",
      "euclidean\n",
      "Evaluation vocabulary size: 118\n",
      "Spearman r: 0.035\n",
      "jaccard\n",
      "Evaluation vocabulary size: 118\n",
      "Spearman r: 0.455\n",
      "JSD\n",
      "Evaluation vocabulary size: 118\n",
      "Spearman r: 0.514\n",
      "========================================\n",
      "WD PPMI\n",
      "========================================\n",
      "wordsim353_reader\n",
      "cosine\n",
      "Evaluation vocabulary size: 118\n",
      "Spearman r: 0.326\n",
      "euclidean\n",
      "Evaluation vocabulary size: 118\n",
      "Spearman r: 0.239\n",
      "jaccard\n",
      "Evaluation vocabulary size: 118\n",
      "Spearman r: 0.236\n",
      "JSD\n",
      "Evaluation vocabulary size: 118\n",
      "Spearman r: 0.250\n",
      "========================================\n",
      "WW PPMI LSA\n",
      "========================================\n",
      "wordsim353_reader\n",
      "cosine\n",
      "Evaluation vocabulary size: 118\n",
      "Spearman r: 0.568\n",
      "euclidean\n",
      "Evaluation vocabulary size: 118\n",
      "Spearman r: 0.035\n",
      "jaccard\n",
      "Evaluation vocabulary size: 118\n",
      "Spearman r: -0.072\n",
      "JSD\n",
      "Evaluation vocabulary size: 118\n",
      "Spearman r: nan\n",
      "========================================\n",
      "WD PPMI LSA\n",
      "========================================\n",
      "wordsim353_reader\n",
      "cosine\n",
      "Evaluation vocabulary size: 118\n",
      "Spearman r: 0.327\n",
      "euclidean\n",
      "Evaluation vocabulary size: 118\n",
      "Spearman r: 0.241\n",
      "jaccard\n",
      "Evaluation vocabulary size: 118\n",
      "Spearman r: 0.219\n",
      "JSD\n",
      "Evaluation vocabulary size: 118\n",
      "Spearman r: nan\n",
      "========================================\n"
     ]
    }
   ],
   "source": [
    "#PPMI:\n",
    "print('WW PPMI')\n",
    "full_word_similarity_evaluation(ww_ppmi[0], ww_ppmi[1])\n",
    "print('WD PPMI')\n",
    "full_word_similarity_evaluation(wd_ppmi[0], wd_ppmi[1])\n",
    "\n",
    "#LSA PPMI:\n",
    "print('WW PPMI LSA')\n",
    "full_word_similarity_evaluation(ww_lsa_ppmi[0], ww_lsa_ppmi[1])\n",
    "print('WD PPMI LSA')\n",
    "full_word_similarity_evaluation(wd_lsa_ppmi[0], wd_lsa_ppmi[1])"
   ]
  },
  {
   "cell_type": "code",
   "execution_count": 53,
   "metadata": {
    "collapsed": false
   },
   "outputs": [
    {
     "name": "stdout",
     "output_type": "stream",
     "text": [
      "WW TFIDF\n",
      "========================================\n",
      "wordsim353_reader\n",
      "cosine\n",
      "Evaluation vocabulary size: 118\n",
      "Spearman r: 0.123\n",
      "euclidean\n",
      "Evaluation vocabulary size: 118\n"
     ]
    },
    {
     "name": "stderr",
     "output_type": "stream",
     "text": [
      "C:\\Users\\ritik\\Anaconda2\\lib\\site-packages\\scipy\\spatial\\distance.py:326: RuntimeWarning: invalid value encountered in double_scalars\n",
      "  dist = 1.0 - np.dot(u, v) / (norm(u) * norm(v))\n",
      "C:\\Users\\ritik\\Anaconda2\\lib\\site-packages\\ipykernel\\__main__.py:6: RuntimeWarning: invalid value encountered in double_scalars\n",
      "C:\\Users\\ritik\\Anaconda2\\lib\\site-packages\\ipykernel\\__main__.py:6: RuntimeWarning: invalid value encountered in divide\n",
      "C:\\Users\\ritik\\Anaconda2\\lib\\site-packages\\ipykernel\\__main__.py:5: RuntimeWarning: invalid value encountered in divide\n"
     ]
    },
    {
     "name": "stdout",
     "output_type": "stream",
     "text": [
      "Spearman r: -0.136\n",
      "jaccard\n",
      "Evaluation vocabulary size: 118\n",
      "Spearman r: 0.079\n",
      "JSD\n",
      "Evaluation vocabulary size: 118\n",
      "Spearman r: 0.080\n",
      "========================================\n",
      "WD TFIDF\n",
      "========================================\n",
      "wordsim353_reader\n",
      "cosine\n",
      "Evaluation vocabulary size: 118\n",
      "Spearman r: 0.198\n",
      "euclidean\n",
      "Evaluation vocabulary size: 118\n",
      "Spearman r: -0.204\n",
      "jaccard\n",
      "Evaluation vocabulary size: 118\n",
      "Spearman r: 0.168\n",
      "JSD\n",
      "Evaluation vocabulary size: 118\n",
      "Spearman r: 0.173\n",
      "========================================\n",
      "WW TFIDF LSA\n",
      "========================================\n",
      "wordsim353_reader\n",
      "cosine\n",
      "Evaluation vocabulary size: 118\n",
      "Spearman r: 0.145\n",
      "euclidean\n",
      "Evaluation vocabulary size: 118\n",
      "Spearman r: -0.137\n",
      "jaccard\n",
      "Evaluation vocabulary size: 118\n",
      "Spearman r: 0.107\n",
      "JSD\n",
      "Evaluation vocabulary size: 118\n",
      "Spearman r: nan\n",
      "========================================\n",
      "WD TFIDF LSA\n",
      "========================================\n",
      "wordsim353_reader\n",
      "cosine\n",
      "Evaluation vocabulary size: 118\n",
      "Spearman r: 0.198\n",
      "euclidean\n",
      "Evaluation vocabulary size: 118\n",
      "Spearman r: -0.203\n",
      "jaccard\n",
      "Evaluation vocabulary size: 118\n",
      "Spearman r: -0.092\n",
      "JSD\n",
      "Evaluation vocabulary size: 118\n",
      "Spearman r: nan\n",
      "========================================\n"
     ]
    }
   ],
   "source": [
    "#TFIDF:\n",
    "print('WW TFIDF')\n",
    "full_word_similarity_evaluation(ww_tfidf[0], ww_tfidf[1])\n",
    "print('WD TFIDF')\n",
    "full_word_similarity_evaluation(wd_tfidf[0], wd_tfidf[1])\n",
    "\n",
    "#LSA TFIDF:\n",
    "print('WW TFIDF LSA')\n",
    "full_word_similarity_evaluation(ww_lsa_tfidf[0], ww_lsa_tfidf[1])\n",
    "print('WD TFIDF LSA')\n",
    "full_word_similarity_evaluation(wd_lsa_tfidf[0], wd_lsa_tfidf[1])"
   ]
  },
  {
   "cell_type": "code",
   "execution_count": 54,
   "metadata": {
    "collapsed": false
   },
   "outputs": [
    {
     "name": "stdout",
     "output_type": "stream",
     "text": [
      "WW PMI\n",
      "========================================\n",
      "wordsim353_reader\n",
      "cosine\n",
      "Evaluation vocabulary size: 118\n",
      "Spearman r: 0.519\n",
      "euclidean\n",
      "Evaluation vocabulary size: 118\n",
      "Spearman r: 0.034\n",
      "jaccard\n",
      "Evaluation vocabulary size: 118\n",
      "Spearman r: -0.152\n",
      "JSD\n",
      "Evaluation vocabulary size: 118\n",
      "Spearman r: nan\n",
      "========================================\n",
      "WD PMI\n",
      "========================================\n",
      "wordsim353_reader\n",
      "cosine\n",
      "Evaluation vocabulary size: 118\n",
      "Spearman r: 0.310\n",
      "euclidean\n",
      "Evaluation vocabulary size: 118\n",
      "Spearman r: 0.169\n",
      "jaccard\n",
      "Evaluation vocabulary size: 118\n",
      "Spearman r: 0.045\n",
      "JSD\n",
      "Evaluation vocabulary size: 118\n",
      "Spearman r: 0.077\n",
      "========================================\n",
      "WW PMI LSA\n",
      "========================================\n",
      "wordsim353_reader\n",
      "cosine\n",
      "Evaluation vocabulary size: 118\n",
      "Spearman r: 0.520\n",
      "euclidean\n",
      "Evaluation vocabulary size: 118\n",
      "Spearman r: 0.034\n",
      "jaccard\n",
      "Evaluation vocabulary size: 118\n",
      "Spearman r: 0.096\n",
      "JSD\n",
      "Evaluation vocabulary size: 118\n",
      "Spearman r: nan\n",
      "========================================\n",
      "WD PMI LSA\n",
      "========================================\n",
      "wordsim353_reader\n",
      "cosine\n",
      "Evaluation vocabulary size: 118\n",
      "Spearman r: 0.308\n",
      "euclidean\n",
      "Evaluation vocabulary size: 118\n",
      "Spearman r: 0.168\n",
      "jaccard\n",
      "Evaluation vocabulary size: 118\n",
      "Spearman r: 0.233\n",
      "JSD\n",
      "Evaluation vocabulary size: 118\n",
      "Spearman r: nan\n",
      "========================================\n"
     ]
    }
   ],
   "source": [
    "#PMI:\n",
    "print('WW PMI')\n",
    "full_word_similarity_evaluation(ww_pmi[0], ww_pmi[1])\n",
    "print('WD PMI')\n",
    "full_word_similarity_evaluation(wd_pmi[0], wd_pmi[1])\n",
    "\n",
    "#LSA PMI:\n",
    "print('WW PMI LSA')\n",
    "full_word_similarity_evaluation(ww_lsa_pmi[0], ww_lsa_pmi[1])\n",
    "print('WD PMI LSA')\n",
    "full_word_similarity_evaluation(wd_lsa_pmi[0], wd_lsa_pmi[1])"
   ]
  },
  {
   "cell_type": "markdown",
   "metadata": {},
   "source": [
    "Can you build a VSM that does better? \n",
    "\n",
    "__Submit__: For the bake-off, submit your best result for WordSim-353."
   ]
  },
  {
   "cell_type": "markdown",
   "metadata": {},
   "source": [
    "## Word analogies evaluation"
   ]
  },
  {
   "cell_type": "markdown",
   "metadata": {},
   "source": [
    "Word analogies provide another kind of evaluation for distributed representations. Here, we are given three vectors A, B, and C, in the relationship\n",
    "\n",
    "_A is to B as C is to __ _\n",
    "\n",
    "and asked to identify the fourth that completes the analogy. This section conducts such analyses using a large, automatically collected analogies datset from Google. These analogies are by and large substantially easier than the classic brain-teaser analogies that used to appear on tests like the SAT, but it's still an interesting, demanding\n",
    "task. \n",
    "\n",
    "The core idea idea is that we make predictions by creating the vector\n",
    "\n",
    "$$(A - B) + C$$ \n",
    "\n",
    "and then ranking all vectors based on their distance from this new vector, choosing the closest as our prediction."
   ]
  },
  {
   "cell_type": "code",
   "execution_count": 55,
   "metadata": {
    "collapsed": false
   },
   "outputs": [],
   "source": [
    "def analogy_completion(a, b, c, mat, rownames, distfunc=cosine):\n",
    "    \"\"\"a is to be as c is to predicted, where predicted is the \n",
    "    closest to (b-a) + c\"\"\"\n",
    "    for x in (a, b, c):\n",
    "        if x not in rownames:\n",
    "            raise ValueError('%s is not in this VSM' % x)\n",
    "    avec = mat[rownames.index(a)]\n",
    "    bvec = mat[rownames.index(b)]\n",
    "    cvec = mat[rownames.index(c)]\n",
    "    newvec = (bvec - avec) + cvec\n",
    "    dists = [(w, distfunc(newvec, mat[i])) for i, w in enumerate(rownames) if w not in (a, b, c)]\n",
    "    return sorted(dists, key=itemgetter(1), reverse=False)    "
   ]
  },
  {
   "cell_type": "code",
   "execution_count": 56,
   "metadata": {
    "collapsed": false
   },
   "outputs": [
    {
     "data": {
      "text/plain": [
       "[('singing', 0.36387000688724291),\n",
       " ('songs', 0.43222308133082787),\n",
       " ('song', 0.4364868809575787),\n",
       " ('musical', 0.45341770142029214),\n",
       " ('musicals', 0.50284943344566324)]"
      ]
     },
     "execution_count": 56,
     "metadata": {},
     "output_type": "execute_result"
    }
   ],
   "source": [
    "analogy_completion('dance', 'dancing', 'sing', \n",
    "    mat=ww_ppmi[0], rownames=ww_ppmi[1])[:5]"
   ]
  },
  {
   "cell_type": "code",
   "execution_count": 57,
   "metadata": {
    "collapsed": false
   },
   "outputs": [],
   "source": [
    "def analogy_evaluation(\n",
    "        mat, \n",
    "        rownames, \n",
    "        src_filename='gram1-adjective-to-adverb.txt', \n",
    "        distfunc=cosine):\n",
    "    \"\"\"Basic analogies evaluation for a file `src_filename `\n",
    "    in `question-data/`.\n",
    "    \n",
    "    Parameters\n",
    "    ----------    \n",
    "    mat : 2d np.array\n",
    "        The VSM being evaluated.\n",
    "        \n",
    "    rownames : list of str\n",
    "        The names of the rows in `mat`.\n",
    "        \n",
    "    src_filename : str\n",
    "        Basename of the file to be evaluated. It's assumed to be in\n",
    "        `vsmdata_home`/question-data.\n",
    "        \n",
    "    distfunc : function mapping vector pairs to floats (default: `cosine`)\n",
    "        The measure of distance between vectors. Can also be `euclidean`, \n",
    "        `matching`, `jaccard`, as well as any other distance measure \n",
    "        between 1d vectors.\n",
    "    \n",
    "    Returns\n",
    "    -------\n",
    "    (float, float)\n",
    "        The first is the mean reciprocal rank of the predictions and \n",
    "        the second is the accuracy of the predictions.\n",
    "    \n",
    "    \"\"\"\n",
    "    src_filename = os.path.join(vsmdata_home, 'question-data', src_filename)\n",
    "    # Read in the data and restrict to problems we can solve:\n",
    "    data = [line.split() for line in open(src_filename).read().splitlines()]\n",
    "    data = [prob for prob in data if set(prob) <= set(rownames)]\n",
    "    # Run the evaluation, collecting accuracy and rankings:\n",
    "    results = defaultdict(int)\n",
    "    ranks = []\n",
    "    for a, b, c, d in data:\n",
    "        predicted = analogy_completion(a, b, c, mat=mat, rownames=rownames, distfunc=distfunc)\n",
    "        # print \"%s is to %s as %s is to %s (actual is %s)\" % (a, b, c, predicted, d)\n",
    "        results[predicted[0][0] == d] += 1\n",
    "        predicted_words, _ = zip(*predicted)\n",
    "        ranks.append(predicted_words.index(d))\n",
    "    # Return the mean reciprocal rank and the accuracy results:\n",
    "    mrr = np.mean(1.0/(np.array(ranks)+1))\n",
    "    return (mrr, results)"
   ]
  },
  {
   "cell_type": "markdown",
   "metadata": {},
   "source": [
    "Some example evaluations, again using our baseline `ww_pmi` VSM:"
   ]
  },
  {
   "cell_type": "code",
   "execution_count": 58,
   "metadata": {
    "collapsed": false
   },
   "outputs": [
    {
     "data": {
      "text/plain": [
       "(0.048040778437069588, defaultdict(int, {False: 180, True: 2}))"
      ]
     },
     "execution_count": 58,
     "metadata": {},
     "output_type": "execute_result"
    }
   ],
   "source": [
    "analogy_evaluation(mat=ww_ppmi[0], rownames=ww_ppmi[1])"
   ]
  },
  {
   "cell_type": "code",
   "execution_count": 59,
   "metadata": {
    "collapsed": false
   },
   "outputs": [
    {
     "data": {
      "text/plain": [
       "(0.16482840597297255, defaultdict(int, {False: 223, True: 17}))"
      ]
     },
     "execution_count": 59,
     "metadata": {},
     "output_type": "execute_result"
    }
   ],
   "source": [
    "analogy_evaluation(src_filename=\"gram7-past-tense.txt\", mat=ww_ppmi[0], rownames=ww_ppmi[1])"
   ]
  },
  {
   "cell_type": "markdown",
   "metadata": {},
   "source": [
    "## Exploratory exercises\n",
    "\n",
    "These are largely meant to give you a feel for the material, but some of them could lead to projects. __These are not for credit.__\n",
    "\n",
    "0. Pick a few words from a single domain and see what their neighbors are like in one the VSMs (`ww`, `wd`, `ww_ppmi`, `ww_tfidf`, `glv`), using `neighbors`, comparing `cosine` with `euclidean`.\n",
    "\n",
    "0. We saw that Euclidean distance favors raw frequencies. Find words in the matrix `ww` that help make this point: a pair that are semantically unrelated but close according to `euclidean`, and a pair that are semantically related by far apart according to `euclidean`.\n",
    "\n",
    "0. Starting from `ww` or `wd`, toy around with different combinations of (i) weighting scheme, (ii) dimensionality reduction (if any), and (iii) distance measure. Which VSM seems to provide the best reconstruction of our intuitive notion of semantic relatedness.\n",
    "\n",
    "0. What happens if you set `k=1` using `lsa`. What do the results look like then? What do you think this first (and now only) dimension is capturing?\n",
    "\n",
    "0. Read in `gigawordnyt-advmod-matrix.csv` (included in `vsmdata_home`). This is an adjective $\\times$ adverb matrix derived from the Gigaword corpus. Each cell contains the number of times that the modifier phrase _ADV ADJ_ appeared in Gigaword, where _ADJ_ is the row value and _ADV_ is the column value. You can read it in with `build` above. Using the above techniques and measures, try to get a feel for what can be done with this matrix.\n",
    "\n",
    "0. The file `gigawordnyt-advmod-matrix.csv` (included in `vsmdata_home`) contains an adjective $\\times$ adverb matrix derived from the Gigaword corpus. Each cell contains the number of times that the modifier phrase _ADV ADJ_ appeared in Gigaword, where _ADJ_ is the row value and _ADV_ is the column value. You can read it in with `build` above. Your task: without introducing any new data, get at least 190 examples right on the analogy file `gram3-comparative.txt`.\n",
    "\n",
    "0. Turney and Pantel 2010, p.&nbsp;158, propose a \"contextual discounting\" extension of PMI to try to address its bias for low-frequency events. Extend `pmi` so that the user has the option of performing this discounting with the keyword argument `discounting=True`.\n",
    "\n",
    "0. Modify `glove` as implemented above so that it uses the [AdaGrad optimization method](http://www.jmlr.org/papers/volume12/duchi11a/duchi11a.pdf). It's fine to use [the authors' implementation](http://nlp.stanford.edu/projects/glove/) or [Jon Gauthier's implementation](http://www.foldl.me/2014/glove-python/) as a reference, but you might enjoy the challenge of doing this with no peeking at their code.\n",
    "\n",
    "0. Use the [word2vec](https://code.google.com/p/word2vec/) implementation in [gensim](https://radimrehurek.com/gensim/) or [TensorFlow](https://www.tensorflow.org/versions/r0.7/tutorials/word2vec/index.html) for some purpose."
   ]
  },
  {
   "cell_type": "markdown",
   "metadata": {},
   "source": [
    "## Homework 1"
   ]
  },
  {
   "cell_type": "markdown",
   "metadata": {},
   "source": [
    "### 1. PMI patterns [2 points]\n",
    "\n",
    "Consider the matrix `np.array([[1.0, 0.0, 0.0], [1000.0, 1000.0, 4000.0], [1000.0, 2000.0, 999.0]])`. Reweight this matrix using `pmi` with `positive=True`. __Submit__: (i) the value obtained for cell `[0,0]`, and (ii) a 1&ndash;2 sentence explanation of what is what is likely problematic about this value."
   ]
  },
  {
   "cell_type": "markdown",
   "metadata": {},
   "source": [
    "### 2. Jensen&ndash;Shannon distance  [2 points]\n",
    "\n",
    "Implement [Jensen&ndash;Shannon distance](http://en.wikipedia.org/wiki/Jensen–Shannon_divergence) and run it on the toy matrix `ABC` defined above. Does this measure place `A` and `B` close together relative to `B` and `C` (our goal for that example)? __Submit__: (i) your implementation, and (ii) the JS distance values between `A` and `B` and between `B` and `C`."
   ]
  },
  {
   "cell_type": "markdown",
   "metadata": {},
   "source": [
    "### 3. Dice coefficient  [2 points]\n",
    "\n",
    "Implement the [Dice coefficient](http://en.wikipedia.org/wiki/Sørensen–Dice_coefficient) for real-valued vectors, as \n",
    "\n",
    "  $$1.0 - \\left(\\frac{2\\sum_{i=1}^{n}\\min(u_{i}, v_{i})}{\\sum_{i=1}^{n}u_{i}+v_{i}}\\right)$$ \n",
    "\n",
    "Run your code on the toy matrix `ABC` defined above. Does this measure place `A` and `B` close together relative to `B` and `C` (our goal for that example)? __Submit__: (i) your implementation, and (ii) the Dice coefficient values for `A` and `B` and for `B` and `C`."
   ]
  },
  {
   "cell_type": "markdown",
   "metadata": {},
   "source": [
    "### 4. t-test reweighting  [2 points]\n",
    "\n",
    "The t-test statistic can be thought of as a reweighting scheme. For a word&ndash;context pair $(w, c)$, the weighted value is \n",
    "\n",
    "  $$\\frac{P(w, c)-(P(w)P(c))}{\\sqrt{P(w)P(c)}}$$ \n",
    "\n",
    "Implement this as a function `ttest` comparable to `pmi` and `tfidf`. __Submit__: your implementation."
   ]
  },
  {
   "cell_type": "markdown",
   "metadata": {},
   "source": [
    "### 5. Lexicon induction  [2 points]\n",
    "\n",
    "Use `pickle.load(file(os.path.join(vsmdata_home, 'imdb-posneg-lexicon.pickle')))` to read in a positive/negative sentiment lexicon restricted to the vocabulary of `ww` (same as the rows of `wd`). The dictionary has training and testing lists for the positive and negative categories. Your tasks: \n",
    "\n",
    "0. Write a function that uses `semantic_orientation` to induce a positive/negative sentiment lexicon on a given matrix by imposing a boundary or boundaries on what counts as positive and what counts as negative. You come up with the seed sets. (The default values for `seeds1` and `seeds` from  `semantic_orientation` are a reasonable starting place.)\n",
    "\n",
    "0. Write a function to evaluate this function against the training data in `imdb-posneg-lexicon.pickle`. (We needn't use the `test` data because the algorithm in part 1 isn't trained.)\n",
    "\n",
    "__Submit__: the two functions you wrote. The following should help you structure this code."
   ]
  },
  {
   "cell_type": "code",
   "execution_count": 60,
   "metadata": {
    "collapsed": false
   },
   "outputs": [],
   "source": [
    "import pickle\n",
    "from sklearn.metrics import classification_report\n",
    "\n",
    "def semantic_orientation_lexicon(mat, rownames, posset, negset, distfunc=cosine):\n",
    "    \"\"\"Induce a pos/neg lexicon using `semantic_orientation`.\n",
    "    \n",
    "    Parameters\n",
    "    ----------\n",
    "    mat : 2d np.array\n",
    "        The matrix to use.\n",
    "        \n",
    "    rownames : list\n",
    "        The vocabulary for the rows in `mat`.\n",
    "        \n",
    "    posset : list of str\n",
    "        Positive seed-set.\n",
    "\n",
    "    negset : list of str\n",
    "        Negative seed-set\n",
    "        \n",
    "    distfunc : (default: `cosine`)\n",
    "        Distance function on vectors.\n",
    "    \n",
    "    Returns\n",
    "    -------\n",
    "    dict\n",
    "        A dict with keys 'positive' and 'negative', where the \n",
    "        values are subsets of `rownames` deemed to be positive\n",
    "        and negative, respectively.\n",
    "    \n",
    "    \"\"\"\n",
    "    # Use `semantic_orientation` to get a ranking of the full vocabulary:\n",
    "    ranking = None\n",
    "        \n",
    "    # This will split `ranking` into the vocabulary and vals lists.    \n",
    "    words, vals = zip(*ranking)\n",
    "    \n",
    "    # You can then do some work with `vals` to find a boundary or \n",
    "    # boundaries for decision making. There are lots of ways to do this.\n",
    "        \n",
    "    # Use your decision-making procedure to derive from `words` a list of \n",
    "    # positive words and a list of negative words.\n",
    "    poswords = None # To be replaced.\n",
    "    negwords = None # To be replaced.\n",
    "    return {'positive': poswords, 'negative': negwords}\n",
    "\n",
    "def evaluate_semantic_orientation_lexicon(lexicon):\n",
    "    \"\"\"Evaluates `lexicon`, which is the output of `semantic_orientation_lexicon`.\"\"\"    \n",
    "    # Read in the assessment lexicon:\n",
    "    assessment_lexicon = pickle.load(file(os.path.join(vsmdata_home, 'imdb-posneg-lexicon.pickle')))\n",
    "    # Full vocab for evaluation:\n",
    "    vocab = assessment_lexicon['positive_train'] + assessment_lexicon['negative_train']\n",
    "    # Gold data:\n",
    "    gold = ['positive' for w in assessment_lexicon['positive_train']]\n",
    "    gold += ['negative' for w in assessment_lexicon['negative_train']]\n",
    "    \n",
    "    # Use `lexicon` to get a list of predictions:            \n",
    "    predictions = None # To be replaced.\n",
    "    \n",
    "    # Finally, return the value of `sklearn.metrics.classification_report`\n",
    "    # assessing gold vs. predictions:\n",
    "    # http://scikit-learn.org/stable/modules/generated/sklearn.metrics.classification_report.html"
   ]
  },
  {
   "cell_type": "code",
   "execution_count": null,
   "metadata": {
    "collapsed": true
   },
   "outputs": [],
   "source": []
  },
  {
   "cell_type": "code",
   "execution_count": null,
   "metadata": {
    "collapsed": true
   },
   "outputs": [],
   "source": []
  }
 ],
 "metadata": {
  "anaconda-cloud": {},
  "kernelspec": {
   "display_name": "Python [conda root]",
   "language": "python",
   "name": "conda-root-py"
  },
  "language_info": {
   "codemirror_mode": {
    "name": "ipython",
    "version": 2
   },
   "file_extension": ".py",
   "mimetype": "text/x-python",
   "name": "python",
   "nbconvert_exporter": "python",
   "pygments_lexer": "ipython2",
   "version": "2.7.12"
  }
 },
 "nbformat": 4,
 "nbformat_minor": 0
}
